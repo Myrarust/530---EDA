{
 "cells": [
  {
   "cell_type": "markdown",
   "metadata": {},
   "source": [
    "***Exercise 3-1***"
   ]
  },
  {
   "cell_type": "code",
   "execution_count": 26,
   "metadata": {},
   "outputs": [],
   "source": [
    "# Copied the import cell from the books code\n",
    "from __future__ import print_function, division\n",
    "\n",
    "%matplotlib inline\n",
    "\n",
    "import numpy as np\n",
    "\n",
    "import nsfg\n",
    "import thinkstats2\n",
    "import thinkplot"
   ]
  },
  {
   "cell_type": "code",
   "execution_count": 2,
   "metadata": {},
   "outputs": [],
   "source": [
    "# Copied funtion from the books code\n",
    "\n",
    "def BiasPmf(pmf, label):\n",
    "    new_pmf = pmf.Copy(label=label)\n",
    "\n",
    "    for x, p in pmf.Items():\n",
    "        new_pmf.Mult(x, x)\n",
    "        \n",
    "    new_pmf.Normalize()\n",
    "    return new_pmf"
   ]
  },
  {
   "cell_type": "code",
   "execution_count": 5,
   "metadata": {},
   "outputs": [
    {
     "data": {
      "text/plain": [
       "pandas.core.series.Series"
      ]
     },
     "execution_count": 5,
     "metadata": {},
     "output_type": "execute_result"
    }
   ],
   "source": [
    "# Pulled out the numkdhh column from the respondent variable and created a pandas series with the data.\n",
    "resp = nsfg.ReadFemResp()\n",
    "num_kids = resp['numkdhh']\n",
    "type(num_kids)"
   ]
  },
  {
   "cell_type": "code",
   "execution_count": 6,
   "metadata": {},
   "outputs": [
    {
     "data": {
      "text/plain": [
       "Pmf({0: 0.466178202276593, 1: 0.21405207379301322, 2: 0.19625801386889966, 3: 0.08713855815779145, 4: 0.025644380478869556, 5: 0.01072877142483318}, 'actual')"
      ]
     },
     "execution_count": 6,
     "metadata": {},
     "output_type": "execute_result"
    }
   ],
   "source": [
    "# convert num_kids series into a pmf object\n",
    "num_kids_pmf = thinkstats2.Pmf(num_kids, label='actual')\n",
    "num_kids_pmf"
   ]
  },
  {
   "cell_type": "code",
   "execution_count": 11,
   "metadata": {},
   "outputs": [
    {
     "data": {
      "text/plain": [
       "Pmf({0: 0.0, 1: 0.20899335717935616, 2: 0.38323965252938175, 3: 0.25523760858456823, 4: 0.10015329586101177, 5: 0.052376085845682166}, 'observed')"
      ]
     },
     "execution_count": 11,
     "metadata": {},
     "output_type": "execute_result"
    }
   ],
   "source": [
    "# Use the BiasPmf function to compute the bias distribution\n",
    "BiasPmf(num_kids_pmf, label='observed')"
   ]
  },
  {
   "cell_type": "markdown",
   "metadata": {},
   "source": [
    "Note that the values change largely because households with zero kids, don't have anyone to observe that there are no kids and households with many kids have increasing observations."
   ]
  },
  {
   "cell_type": "code",
   "execution_count": 12,
   "metadata": {},
   "outputs": [
    {
     "data": {
      "image/png": "[encoded data removed]",
      "text/plain": [
       "<Figure size 432x288 with 1 Axes>"
      ]
     },
     "metadata": {
      "needs_background": "light"
     },
     "output_type": "display_data"
    },
    {
     "data": {
      "text/plain": [
       "<Figure size 576x432 with 0 Axes>"
      ]
     },
     "metadata": {},
     "output_type": "display_data"
    }
   ],
   "source": [
    "# plot both the normalized pmf and the observed pmf \n",
    "biased_pmf = BiasPmf(num_kids_pmf, label='observed')\n",
    "thinkplot.PrePlot(2)\n",
    "thinkplot.Pmfs([num_kids_pmf, biased_pmf])\n",
    "thinkplot.Show(xlabel='number of kids in the household', ylabel='PMF')"
   ]
  },
  {
   "cell_type": "code",
   "execution_count": 14,
   "metadata": {},
   "outputs": [
    {
     "name": "stdout",
     "output_type": "stream",
     "text": [
      "Mean for actual pmf:  1.024205155043831\n",
      "Mean for observed pmf:  2.403679100664282\n"
     ]
    }
   ],
   "source": [
    "# Print the means for each of the pmfs\n",
    "print('Mean for actual pmf: ', num_kids_pmf.Mean())\n",
    "print('Mean for observed pmf: ', biased_pmf.Mean())"
   ]
  },
  {
   "cell_type": "markdown",
   "metadata": {},
   "source": [
    "***Exercise 3-2***"
   ]
  },
  {
   "cell_type": "code",
   "execution_count": 38,
   "metadata": {},
   "outputs": [],
   "source": [
    "# Create my own function to calculate mean of a pmf\n",
    "\n",
    "def PmfMean(pmf): \n",
    "    count = 0\n",
    "    total = 0\n",
    "    for x, prob in pmf.d.items():\n",
    "        count = count =+ 1\n",
    "        total = total =+ prob\n",
    "    return total / count\n",
    "   \n",
    " "
   ]
  },
  {
   "cell_type": "code",
   "execution_count": 39,
   "metadata": {
    "scrolled": true
   },
   "outputs": [
    {
     "data": {
      "text/plain": [
       "0.01072877142483318"
      ]
     },
     "execution_count": 39,
     "metadata": {},
     "output_type": "execute_result"
    }
   ],
   "source": [
    "PmfMean(num_kids_pmf)"
   ]
  },
  {
   "cell_type": "code",
   "execution_count": 3,
   "metadata": {},
   "outputs": [],
   "source": [
    "# Something went really wrong there, this function is adding all the values and then dividing by the entire number \n",
    "# of values. I actually need to figure out the mean for each key:value pair in my pmf, then calculate the mean of the means.\n",
    "# Gonna have to rework the function.\n",
    "\n",
    "def PmfMean(pmf):\n",
    "    mean = 0.0\n",
    "    for x, p in pmf.d.items():\n",
    "        mean += p * x\n",
    "    return mean\n"
   ]
  },
  {
   "cell_type": "code",
   "execution_count": 7,
   "metadata": {
    "scrolled": true
   },
   "outputs": [
    {
     "data": {
      "text/plain": [
       "1.024205155043831"
      ]
     },
     "execution_count": 7,
     "metadata": {},
     "output_type": "execute_result"
    }
   ],
   "source": [
    "# Run the function to show the mean number of kids and it matches the mean calculated at the end of the last exercise.\n",
    "PmfMean(num_kids_pmf)"
   ]
  },
  {
   "cell_type": "code",
   "execution_count": 16,
   "metadata": {},
   "outputs": [],
   "source": [
    "# Create my own function to calculate var of a pmf, use the above function as a base and work from there\n",
    "\n",
    "def PmfVar(pmf):\n",
    "    var = 0\n",
    "    mean = 0\n",
    "    for x, p in pmf.d.items():\n",
    "        mean += p * x\n",
    "        var += p * (x - mean)**2\n",
    "        return var"
   ]
  },
  {
   "cell_type": "code",
   "execution_count": 17,
   "metadata": {},
   "outputs": [
    {
     "data": {
      "text/plain": [
       "0.0"
      ]
     },
     "execution_count": 17,
     "metadata": {},
     "output_type": "execute_result"
    }
   ],
   "source": [
    "# Run the function to show the variance of the pmf number of kids\n",
    "PmfVar(num_kids_pmf)"
   ]
  },
  {
   "cell_type": "code",
   "execution_count": 18,
   "metadata": {},
   "outputs": [],
   "source": [
    "# Okay, so that didn't work. Let's try using the .Mean method this time.\n",
    "\n",
    "def PmfVar(pmf):\n",
    "    var = 0\n",
    "    for x, p in pmf.d.items():\n",
    "        var += p * (x - pmf.Mean())**2\n",
    "        return var"
   ]
  },
  {
   "cell_type": "code",
   "execution_count": 19,
   "metadata": {},
   "outputs": [
    {
     "data": {
      "text/plain": [
       "0.4890191625330641"
      ]
     },
     "execution_count": 19,
     "metadata": {},
     "output_type": "execute_result"
    }
   ],
   "source": [
    "PmfVar(num_kids_pmf)"
   ]
  },
  {
   "cell_type": "code",
   "execution_count": 21,
   "metadata": {},
   "outputs": [
    {
     "data": {
      "text/plain": [
       "1.4128643263531195"
      ]
     },
     "execution_count": 21,
     "metadata": {},
     "output_type": "execute_result"
    }
   ],
   "source": [
    "# Now check my result using the .Var method \n",
    "num_kids_pmf.Var()"
   ]
  },
  {
   "cell_type": "code",
   "execution_count": 23,
   "metadata": {},
   "outputs": [],
   "source": [
    "# Not really sure why that didn't work, maybe it's because the zero values. I had to look at the solution to get this\n",
    "# to work. The solution says that mu is the point that the variance is built around and if it is none that it will use \n",
    "# pmf.Mean(). So why can't you just put pmf.Mean() into the function and skip that whole part?\n",
    "\n",
    "def PmfVar(pmf, mu=None):\n",
    "    \n",
    "    if mu is None:\n",
    "        mu = pmf.Mean()\n",
    "\n",
    "    var = 0.0\n",
    "    for x, p in pmf.d.items():\n",
    "        var += p * (x - mu) ** 2\n",
    "    return var"
   ]
  },
  {
   "cell_type": "code",
   "execution_count": 24,
   "metadata": {},
   "outputs": [
    {
     "data": {
      "text/plain": [
       "1.4128643263531195"
      ]
     },
     "execution_count": 24,
     "metadata": {},
     "output_type": "execute_result"
    }
   ],
   "source": [
    "PmfVar(num_kids_pmf)"
   ]
  },
  {
   "cell_type": "markdown",
   "metadata": {},
   "source": [
    "***Exercise 4-1***"
   ]
  },
  {
   "cell_type": "code",
   "execution_count": 33,
   "metadata": {},
   "outputs": [],
   "source": [
    "# Copied code from book exercises to get started\n",
    "import first\n",
    "live, firsts, others = first.MakeFrames()\n",
    "\n",
    "def PercentileRank(scores, your_score):\n",
    "    count = 0\n",
    "    for score in scores:\n",
    "        if score <= your_score:\n",
    "            count += 1\n",
    "\n",
    "    percentile_rank = 100.0 * count / len(scores)\n",
    "    return percentile_rank"
   ]
  },
  {
   "cell_type": "code",
   "execution_count": 29,
   "metadata": {},
   "outputs": [
    {
     "name": "stdout",
     "output_type": "stream",
     "text": [
      "All live births:  9148 9038\n"
     ]
    }
   ],
   "source": [
    "# Pull out the values for live total weight and view total number of records and total number of records without na's\n",
    "live_wgt = live.totalwgt_lb\n",
    "live_wgt_dropna = live_wgt.dropna()\n",
    "print('All live births: ', len(live_wgt), len(live_wgt_dropna))\n"
   ]
  },
  {
   "cell_type": "code",
   "execution_count": 30,
   "metadata": {},
   "outputs": [],
   "source": [
    "# Convert the data that doesn't have the na's into a pmf\n",
    "live_pmf = thinkstats2.Pmf(live_wgt_dropna, label='live')"
   ]
  },
  {
   "cell_type": "code",
   "execution_count": 32,
   "metadata": {},
   "outputs": [
    {
     "data": {
      "image/png": "[encoded data removed]",
      "text/plain": [
       "<Figure size 432x288 with 1 Axes>"
      ]
     },
     "metadata": {
      "needs_background": "light"
     },
     "output_type": "display_data"
    }
   ],
   "source": [
    "# Plot the pmf and view the distribution\n",
    "thinkplot.PrePlot()\n",
    "thinkplot.Hist(live_pmf)\n",
    "thinkplot.Config(xlabel='Weight (pounds)', ylabel='PMF')"
   ]
  },
  {
   "cell_type": "code",
   "execution_count": 34,
   "metadata": {},
   "outputs": [
    {
     "data": {
      "text/plain": [
       "48.91304347826087"
      ]
     },
     "execution_count": 34,
     "metadata": {},
     "output_type": "execute_result"
    }
   ],
   "source": [
    "# Use PercentileRank function to calculate my percentile rank in all live births data set.\n",
    "# My birth weight was 6lbs 6oz, which calculates to 6.375lbs.\n",
    "\n",
    "PercentileRank(live_pmf, 6.375)"
   ]
  },
  {
   "cell_type": "code",
   "execution_count": 35,
   "metadata": {},
   "outputs": [
    {
     "name": "stdout",
     "output_type": "stream",
     "text": [
      "Other births:  4735 4675\n"
     ]
    }
   ],
   "source": [
    "# So i weighed more than 48.9% of all live babies.\n",
    "# Now to see where I fall using the 'others' pmf, but first, I have to create it. I'll just copy/paste my code from\n",
    "# above and change live to others.\n",
    "\n",
    "others_wgt = others.totalwgt_lb\n",
    "others_wgt_dropna = others_wgt.dropna()\n",
    "print('Other births: ', len(others_wgt), len(others_wgt_dropna))\n",
    "others_pmf = thinkstats2.Pmf(others_wgt_dropna, label='others')"
   ]
  },
  {
   "cell_type": "code",
   "execution_count": 36,
   "metadata": {},
   "outputs": [
    {
     "data": {
      "text/plain": [
       "48.466257668711656"
      ]
     },
     "execution_count": 36,
     "metadata": {},
     "output_type": "execute_result"
    }
   ],
   "source": [
    "# Calling the PercentileRank function on other births using my birth weight to compare\n",
    "PercentileRank(others_pmf, 6.375)"
   ]
  },
  {
   "cell_type": "code",
   "execution_count": null,
   "metadata": {},
   "outputs": [],
   "source": [
    "# So I went down a notch. Guess other babies tend to weigh a little more than first babies."
   ]
  },
  {
   "cell_type": "markdown",
   "metadata": {},
   "source": [
    "***Exercise 4-2***"
   ]
  },
  {
   "cell_type": "code",
   "execution_count": 38,
   "metadata": {},
   "outputs": [],
   "source": [
    "# First i have to import random\n",
    "import random"
   ]
  },
  {
   "cell_type": "code",
   "execution_count": 40,
   "metadata": {},
   "outputs": [],
   "source": [
    "# Generate a list that has 1000 random points between zero and one\n",
    "dat = [random.random() for x in range (0, 1000)]"
   ]
  },
  {
   "cell_type": "code",
   "execution_count": 54,
   "metadata": {},
   "outputs": [
    {
     "data": {
      "text/plain": [
       "1000"
      ]
     },
     "execution_count": 54,
     "metadata": {},
     "output_type": "execute_result"
    }
   ],
   "source": [
    "# Check and make sure that worked\n",
    "len(dat)"
   ]
  },
  {
   "cell_type": "code",
   "execution_count": 58,
   "metadata": {},
   "outputs": [
    {
     "data": {
      "text/plain": [
       "Pmf({0.6445077482231953: 0.001, 0.9698608645906447: 0.001, 0.11234541032894396: 0.001, 0.5966690074437724: 0.001, 0.13149710852070728: 0.001, 0.8881417110262885: 0.001, 0.24015270014899348: 0.001, 0.18920144259242955: 0.001, 0.16834707846702568: 0.001, 0.9135483059696445: 0.001, 0.8255788472166552: 0.001, 0.3030039061252642: 0.001, 0.0936349709627623: 0.001, 0.04667866894198269: 0.001, 0.15574375629983972: 0.001, 0.7792319969077182: 0.001, 0.9385393609525495: 0.001, 0.044811314440716066: 0.001, 0.719149970176223: 0.001, 0.519929886935606: 0.001, 0.543094382396518: 0.001, 0.7383350232666709: 0.001, 0.9032234426452642: 0.001, 0.05724523470654497: 0.001, 0.7954790662775152: 0.001, 0.24785064622328323: 0.001, 0.5084299495908677: 0.001, 0.011579298276573446: 0.001, 0.8657096830801665: 0.001, 0.9383499276704987: 0.001, 0.5059406814381614: 0.001, 0.6496148392949854: 0.001, 0.48280059459241886: 0.001, 0.13143634000431315: 0.001, 0.10369592370228653: 0.001, 0.8978386082908228: 0.001, 0.24457910073291922: 0.001, 0.38185486730022355: 0.001, 0.1131430569637869: 0.001, 0.8154519872518821: 0.001, 0.744378181707304: 0.001, 0.6882919199902638: 0.001, 0.9424309349371744: 0.001, 0.6013736462734687: 0.001, 0.17823171662567805: 0.001, 0.08512695509007961: 0.001, 0.47649199720345514: 0.001, 0.14490543726249816: 0.001, 0.5871107508431475: 0.001, 0.002217677780587235: 0.001, 0.705321343256536: 0.001, 0.7881011710799303: 0.001, 0.7749507423961635: 0.001, 0.47373295929672676: 0.001, 0.1333356622076538: 0.001, 0.27794316179838174: 0.001, 0.17000741872686376: 0.001, 0.8928172020180564: 0.001, 0.47076708786143684: 0.001, 0.9664286221679661: 0.001, 0.747774504515915: 0.001, 0.8037660997618097: 0.001, 0.5251798671006197: 0.001, 0.510937024704663: 0.001, 0.7714640802164836: 0.001, 0.5161347284727341: 0.001, 0.631637649474732: 0.001, 0.9786201149509205: 0.001, 0.9947354230258818: 0.001, 0.6964634306933214: 0.001, 0.5603088621687384: 0.001, 0.09906776627845659: 0.001, 0.9056198541826799: 0.001, 0.8337381449384501: 0.001, 0.28527484720064433: 0.001, 0.07643342709741086: 0.001, 0.6773545156440446: 0.001, 0.7599967436496123: 0.001, 0.7833928326114463: 0.001, 0.9503168421364323: 0.001, 0.8689189813742768: 0.001, 0.816722697875559: 0.001, 0.7692444755076112: 0.001, 0.7755864159233763: 0.001, 0.3415031748661912: 0.001, 0.3807242285240511: 0.001, 0.23791032426448744: 0.001, 0.053027472870212145: 0.001, 0.9805288995580927: 0.001, 0.43389800760422614: 0.001, 0.5648726453753069: 0.001, 0.43667627829902256: 0.001, 0.5164828888279991: 0.001, 0.5575714858484498: 0.001, 0.5817101469387737: 0.001, 0.00483204377135471: 0.001, 0.07102331857368749: 0.001, 0.5004881557988551: 0.001, 0.4818716261971273: 0.001, 0.11812345646684808: 0.001, 0.09651239534909395: 0.001, 0.12680964682764806: 0.001, 0.35756713715915933: 0.001, 0.7781922060947389: 0.001, 0.09274842688247642: 0.001, 0.8405633601479482: 0.001, 0.1719859394096942: 0.001, 0.8756881125409162: 0.001, 0.523254893196469: 0.001, 0.8976635057523095: 0.001, 0.16284200687857286: 0.001, 0.4342768748140099: 0.001, 0.9288274280487488: 0.001, 0.9958052566473852: 0.001, 0.5844947290651332: 0.001, 0.010140893344648072: 0.001, 0.9270564968721241: 0.001, 0.19079702408189503: 0.001, 0.8798456227269266: 0.001, 0.7365156200038255: 0.001, 0.10356866900749773: 0.001, 0.38807941788343736: 0.001, 0.6799951961335056: 0.001, 0.545950395266969: 0.001, 0.49400520329019537: 0.001, 0.3711249436577483: 0.001, 0.5222648726162195: 0.001, 0.36362699312939006: 0.001, 0.6776949958793091: 0.001, 0.9474276936034867: 0.001, 0.659089352983947: 0.001, 0.37977062199380274: 0.001, 0.7180281123270583: 0.001, 0.49402111262793247: 0.001, 0.8250709481224808: 0.001, 0.8838646601154249: 0.001, 0.4376240285964619: 0.001, 0.4099972361078146: 0.001, 0.07199402870961791: 0.001, 0.8367907518260257: 0.001, 0.3247516520785293: 0.001, 0.29415791605251507: 0.001, 0.609855948649638: 0.001, 0.428494785418415: 0.001, 0.8371442464200844: 0.001, 0.02420179310957682: 0.001, 0.8463575104318776: 0.001, 0.7922565857984176: 0.001, 0.6120346889838821: 0.001, 0.31892160835644634: 0.001, 0.9263588285491633: 0.001, 0.1874705249935108: 0.001, 0.7606768187007046: 0.001, 0.0029379220528215066: 0.001, 0.8081171711448873: 0.001, 0.6886629965584116: 0.001, 0.23212973554258542: 0.001, 0.3509775795221919: 0.001, 0.9358607655879222: 0.001, 0.07605350302642566: 0.001, 0.9546529298852167: 0.001, 0.1915441292773682: 0.001, 0.968968592776464: 0.001, 0.2947970964749599: 0.001, 0.09124454327537379: 0.001, 0.1625226087673587: 0.001, 0.2974380481787484: 0.001, 0.7022071897417749: 0.001, 0.5540528399525965: 0.001, 0.056303410112842345: 0.001, 0.761023585264299: 0.001, 0.9307935735138736: 0.001, 0.7404417576280633: 0.001, 0.4458937681203953: 0.001, 0.4719066906606332: 0.001, 0.6812924887306503: 0.001, 0.020766867351433516: 0.001, 0.5264123523364018: 0.001, 0.11868692973577044: 0.001, 0.939360531315367: 0.001, 0.543912986593676: 0.001, 0.27444553309831143: 0.001, 0.5013094024740847: 0.001, 0.5812679234592251: 0.001, 0.4110701433547771: 0.001, 0.7500770594249206: 0.001, 0.1509726292500797: 0.001, 0.7078989819007524: 0.001, 0.8287004351293434: 0.001, 0.5692301025164506: 0.001, 0.9379327521360477: 0.001, 0.7646472527748648: 0.001, 0.8368868819267055: 0.001, 0.8601046267425758: 0.001, 0.18241778479995618: 0.001, 0.17531055780318172: 0.001, 0.6798490760664869: 0.001, 0.16897007038418976: 0.001, 0.9750080232525321: 0.001, 0.3692964676955346: 0.001, 0.9114751356117543: 0.001, 0.047994924522391846: 0.001, 0.32535934574164194: 0.001, 0.05651686415603363: 0.001, 0.8645944450091927: 0.001, 0.6877948183706651: 0.001, 0.5117830513100138: 0.001, 0.6818666948995613: 0.001, 0.9025201184704544: 0.001, 0.007144051342932167: 0.001, 0.42551880684186183: 0.001, 0.9895639258039822: 0.001, 0.8720486375497037: 0.001, 0.5506297371788662: 0.001, 0.9370464169114607: 0.001, 0.9336450109883271: 0.001, 0.9641549165462416: 0.001, 0.45313396447057797: 0.001, 0.28472024119281314: 0.001, 0.5962685175204381: 0.001, 0.3572719353604513: 0.001, 0.17067497712877178: 0.001, 0.343428460937065: 0.001, 0.5277306709472024: 0.001, 0.0315127551948724: 0.001, 0.8929821902777941: 0.001, 0.550638768076074: 0.001, 0.6772784051725743: 0.001, 0.3534753780559293: 0.001, 0.6126984954127827: 0.001, 0.5776664320792265: 0.001, 0.3404611289184145: 0.001, 0.3506779493043459: 0.001, 0.45193114539668433: 0.001, 0.6101600708005989: 0.001, 0.7252279594748261: 0.001, 0.719303711425344: 0.001, 0.942542519578866: 0.001, 0.20524048236739412: 0.001, 0.4924039844198015: 0.001, 0.01886488399982489: 0.001, 0.027956587797330457: 0.001, 0.05737701003552598: 0.001, 0.2507147203037776: 0.001, 0.5970809401078649: 0.001, 0.7331303496840125: 0.001, 0.15957347142766443: 0.001, 0.08077839989961622: 0.001, 0.9326712194622275: 0.001, 0.2389873809401324: 0.001, 0.8322909100085655: 0.001, 0.17063164851531187: 0.001, 0.6334944514441232: 0.001, 0.6125986227383856: 0.001, 0.2656765517605739: 0.001, 0.5050854521541182: 0.001, 0.9901566386220482: 0.001, 0.7732106221686507: 0.001, 0.08153983490088068: 0.001, 0.6345607036522096: 0.001, 0.7058019187408661: 0.001, 0.8506736005515235: 0.001, 0.8256525407459947: 0.001, 0.1831263530909848: 0.001, 0.979147327945877: 0.001, 0.9472946581237609: 0.001, 0.18521439251130856: 0.001, 0.21063517895976458: 0.001, 0.533570213601292: 0.001, 0.7775207632220744: 0.001, 0.7308643125838398: 0.001, 0.22456075281923982: 0.001, 0.39858990711673403: 0.001, 0.7788235660848182: 0.001, 0.320695920109876: 0.001, 0.10030237490751936: 0.001, 0.13004547103941733: 0.001, 0.4406192380226749: 0.001, 0.24592701222886226: 0.001, 0.14398439505239324: 0.001, 0.5100586465469146: 0.001, 0.009076196589560936: 0.001, 0.29967718306747204: 0.001, 0.3116084575390837: 0.001, 0.1985989822933386: 0.001, 0.5454152276289472: 0.001, 0.5719066240168289: 0.001, 0.7896890948121535: 0.001, 0.5978711797620846: 0.001, 0.4244300732940548: 0.001, 0.6214356799504347: 0.001, 0.1747039507522945: 0.001, 0.7501490023800281: 0.001, 0.5464694181227605: 0.001, 0.7724770811992419: 0.001, 0.873860937917197: 0.001, 0.4494883406901611: 0.001, 0.6946679681767156: 0.001, 0.24098459971168107: 0.001, 0.6507693817306248: 0.001, 0.2741814343356488: 0.001, 0.13734911991329524: 0.001, 0.3507786894813474: 0.001, 0.14574640517000814: 0.001, 0.06208820222875677: 0.001, 0.8558270566337464: 0.001, 0.8729435060861359: 0.001, 0.7744771628608299: 0.001, 0.3082442449655093: 0.001, 0.3047908184797873: 0.001, 0.08048576037191701: 0.001, 0.7311988265739994: 0.001, 0.8815044391028772: 0.001, 0.5133589301579944: 0.001, 0.8379259573843072: 0.001, 0.3447775186107819: 0.001, 0.23828035389689828: 0.001, 0.843389606006745: 0.001, 0.018916589558583885: 0.001, 0.03790621988731602: 0.001, 0.346666807612372: 0.001, 0.4692640626947291: 0.001, 0.5581669325121191: 0.001, 0.8097721891742183: 0.001, 0.8154249226823285: 0.001, 0.18928459389082664: 0.001, 0.12230519918112481: 0.001, 0.02599829270034182: 0.001, 0.056087873270453836: 0.001, 0.9099903563407968: 0.001, 0.4487848402725343: 0.001, 0.641232681707745: 0.001, 0.6096269888540056: 0.001, 0.02379065519418011: 0.001, 0.6749310835323762: 0.001, 0.9833516094867573: 0.001, 0.5817778000827937: 0.001, 0.7989219525479379: 0.001, 0.7850284387894988: 0.001, 0.5480057129310107: 0.001, 0.6412803886716226: 0.001, 0.08225343723961664: 0.001, 0.25695842394689417: 0.001, 0.6760334213108665: 0.001, 0.4285180055641421: 0.001, 0.21354011046742116: 0.001, 0.6870500105187537: 0.001, 0.8283071093892139: 0.001, 0.9546106370980348: 0.001, 0.9070929555548329: 0.001, 0.313476807602457: 0.001, 0.8564722266961264: 0.001, 0.6712654682990072: 0.001, 0.2252558418247803: 0.001, 0.9932837864280769: 0.001, 0.9641945662954905: 0.001, 0.7988941019038445: 0.001, 0.8108719510927698: 0.001, 0.8513058832450294: 0.001, 0.6014892024863415: 0.001, 0.49022402569102863: 0.001, 0.021044553687466272: 0.001, 0.5726688718878331: 0.001, 0.8800513179130273: 0.001, 0.35376792546971514: 0.001, 0.7983333386963785: 0.001, 0.6941456803160275: 0.001, 0.5645592888552201: 0.001, 0.068591712490772: 0.001, 0.9844626053057564: 0.001, 0.7825314477057518: 0.001, 0.32125169842816514: 0.001, 0.00461383053941089: 0.001, 0.15948155087628157: 0.001, 0.07266405339080906: 0.001, 0.3938794976464217: 0.001, 0.48423876521813647: 0.001, 0.7994255741258129: 0.001, 0.10712073650527709: 0.001, 0.7827938974422444: 0.001, 0.6863676054746143: 0.001, 0.12463045354974833: 0.001, 0.4166745971995499: 0.001, 0.9284307553917448: 0.001, 0.89360190317716: 0.001, 0.7568739806843778: 0.001, 0.10813459291360528: 0.001, 0.36524665853179095: 0.001, 0.05675342605177358: 0.001, 0.9109456461711143: 0.001, 0.5740483015202564: 0.001, 0.5080206408303356: 0.001, 0.764461125281292: 0.001, 0.923844734223381: 0.001, 0.994271413827619: 0.001, 0.3318103909592317: 0.001, 0.49341035616421214: 0.001, 0.6355990001435702: 0.001, 0.15572402089821247: 0.001, 0.18364447746431578: 0.001, 0.8560345951351914: 0.001, 0.6701923761731536: 0.001, 0.1176176502029811: 0.001, 0.28635860681867065: 0.001, 0.8678821959489615: 0.001, 0.665753117215801: 0.001, 0.4209915607075416: 0.001, 0.9136555767456794: 0.001, 0.6802287210068576: 0.001, 0.40574792075304544: 0.001, 0.26854063728000777: 0.001, 0.41673250941562046: 0.001, 0.43323861996593527: 0.001, 0.8282376459307297: 0.001, 0.9661473530070185: 0.001, 0.24136744661417542: 0.001, 0.3500547805782619: 0.001, 0.6958591603958797: 0.001, 0.6140927471181212: 0.001, 0.9724284922426231: 0.001, 0.3661815467382964: 0.001, 0.09584575254888195: 0.001, 0.2672559726979945: 0.001, 0.5789030181148361: 0.001, 0.35014223257448085: 0.001, 0.3425255129600805: 0.001, 0.5826986986010481: 0.001, 0.034685230319883464: 0.001, 0.9811967849603492: 0.001, 0.4881601001564174: 0.001, 0.47273827920018063: 0.001, 0.9902646018909148: 0.001, 0.36757016373741: 0.001, 0.695554713080868: 0.001, 0.1916066338318928: 0.001, 0.5359355069288056: 0.001, 0.17477235974966276: 0.001, 0.42087950509476035: 0.001, 0.26728888531726225: 0.001, 0.1171868222797795: 0.001, 0.9435948376243294: 0.001, 0.49902932087197727: 0.001, 0.5360970228279303: 0.001, 0.9174341061781803: 0.001, 0.06122716278420259: 0.001, 0.3952567056527584: 0.001, 0.05269667567081748: 0.001, 0.1205345986874733: 0.001, 0.6978034311800986: 0.001, 0.8312531879326779: 0.001, 0.5703601512744847: 0.001, 0.6394945815934685: 0.001, 0.8428912582929687: 0.001, 0.30308743841820474: 0.001, 0.7407503691600261: 0.001, 0.28433898276077096: 0.001, 0.36986089342199946: 0.001, 0.6740219105182481: 0.001, 0.4472401157776573: 0.001, 0.44173601193963274: 0.001, 0.17596688635451652: 0.001, 0.48901272154112296: 0.001, 0.295926406780177: 0.001, 0.6369232309029098: 0.001, 0.20875758716450865: 0.001, 0.6076885705228695: 0.001, 0.8420822522718738: 0.001, 0.3250875683838147: 0.001, 0.15283448323220028: 0.001, 0.7816654924993912: 0.001, 0.8214286080257823: 0.001, 0.6032177461413127: 0.001, 0.3355829876809103: 0.001, 0.46919555001513635: 0.001, 0.7521705093307924: 0.001, 0.4352197688319308: 0.001, 0.786406585080109: 0.001, 0.9489160128273033: 0.001, 0.9426611124824726: 0.001, 0.028664062607592466: 0.001, 0.01578555729730058: 0.001, 0.5779849437751344: 0.001, 0.5054313290872852: 0.001, 0.8361881328788546: 0.001, 0.6154269239577296: 0.001, 0.06110127468785087: 0.001, 0.36656993825653816: 0.001, 0.2756852715260715: 0.001, 0.838404351040148: 0.001, 0.2335100474645484: 0.001, 0.6474520964061695: 0.001, 0.5092700355750202: 0.001, 0.7981958030952697: 0.001, 0.14833749534567375: 0.001, 0.9211875536965463: 0.001, 0.11891429043307644: 0.001, 0.8999399513077246: 0.001, 0.07283487745547168: 0.001, 0.390709723728771: 0.001, 0.5727488143189843: 0.001, 0.39825230176453164: 0.001, 0.892815756591933: 0.001, 0.9864556527937491: 0.001, 0.7725448872844513: 0.001, 0.2849354990514238: 0.001, 0.06230655994517442: 0.001, 0.17506197738662854: 0.001, 0.7112842571141632: 0.001, 0.10880196547201759: 0.001, 0.8207980081281444: 0.001, 0.5370067291869538: 0.001, 0.5571590178429973: 0.001, 0.6109582715335123: 0.001, 0.7410393550093973: 0.001, 0.16369478317238173: 0.001, 0.3819463122875739: 0.001, 0.11211992461908638: 0.001, 0.7871024843516669: 0.001, 0.49315062876180216: 0.001, 0.0042830106667298695: 0.001, 0.8200211809702501: 0.001, 0.22800709780317352: 0.001, 0.3280753485963632: 0.001, 0.06381415890552933: 0.001, 0.7622164065547307: 0.001, 0.7168008355771592: 0.001, 0.5967499575554439: 0.001, 0.6645563386104902: 0.001, 0.7331588522934486: 0.001, 0.5919058895187433: 0.001, 0.04133284477020238: 0.001, 0.6729465330254486: 0.001, 0.3713610878100575: 0.001, 0.5699517750208085: 0.001, 0.6760692732987076: 0.001, 0.45522533709194113: 0.001, 0.7051449693002324: 0.001, 0.4955447326010799: 0.001, 0.05780793584625499: 0.001, 0.4692898806684975: 0.001, 0.13301011032296262: 0.001, 0.9149136917681823: 0.001, 0.8212923095338858: 0.001, 0.4666639382081532: 0.001, 0.5070562602664881: 0.001, 0.957822495616512: 0.001, 0.2857666979242095: 0.001, 0.5106778778539874: 0.001, 0.01767456412942814: 0.001, 0.45095175963539935: 0.001, 0.7187905100953039: 0.001, 0.9478429155289533: 0.001, 0.7875838439783979: 0.001, 0.19542321090229875: 0.001, 0.6260089972822408: 0.001, 0.6988041322009458: 0.001, 0.39169559640686735: 0.001, 0.6095114614732303: 0.001, 0.5010548418694935: 0.001, 0.022327769566921507: 0.001, 0.21500472820197225: 0.001, 0.49556629204483127: 0.001, 0.23370600044366308: 0.001, 0.42614035904408243: 0.001, 0.21527346846034112: 0.001, 0.870780754185549: 0.001, 0.9091152229914125: 0.001, 0.93484668677576: 0.001, 0.10047068710266605: 0.001, 0.8929771827301861: 0.001, 0.46590483528012094: 0.001, 0.15225862355137398: 0.001, 0.9829911137779396: 0.001, 0.29116681209126727: 0.001, 0.245751858375023: 0.001, 0.924917435717081: 0.001, 0.7437304535709331: 0.001, 0.3272923694470625: 0.001, 0.9416371474611988: 0.001, 0.04556515034067676: 0.001, 0.3371700702560716: 0.001, 0.7607344741323804: 0.001, 0.023619691596134196: 0.001, 0.040838516061005525: 0.001, 0.038342892134767825: 0.001, 0.8346583642831579: 0.001, 0.03753347108939453: 0.001, 0.9413480598225591: 0.001, 0.6747910522334858: 0.001, 0.4671173477521451: 0.001, 0.33329546971323: 0.001, 0.6049540854281465: 0.001, 0.8950460144106154: 0.001, 0.2925635384553865: 0.001, 0.8378258222951742: 0.001, 0.09161418097808016: 0.001, 0.37248365543019013: 0.001, 0.24868153500240842: 0.001, 0.010064828325750397: 0.001, 0.6087813874092854: 0.001, 0.74068350663036: 0.001, 0.8713908112806593: 0.001, 0.5682963474390629: 0.001, 0.45982821940331486: 0.001, 0.9056478307060482: 0.001, 0.5892143678458259: 0.001, 0.6745275045872198: 0.001, 0.24756509514489144: 0.001, 0.9266564293513856: 0.001, 0.566036788313035: 0.001, 0.597460714144015: 0.001, 0.6106262281619984: 0.001, 0.47079042190553877: 0.001, 0.25632779934076155: 0.001, 0.4271877027756521: 0.001, 0.8394874461237106: 0.001, 0.3300852184161709: 0.001, 0.974450880350453: 0.001, 0.05378791791904447: 0.001, 0.38168279154365037: 0.001, 0.3798438262540409: 0.001, 0.4892193722584257: 0.001, 0.4410101298335408: 0.001, 0.36866267100203465: 0.001, 0.9532769907393612: 0.001, 0.7881248445476721: 0.001, 0.7118752079906514: 0.001, 0.7608662190178553: 0.001, 0.14626493690435238: 0.001, 0.6109879737645952: 0.001, 0.715463483221408: 0.001, 0.742590800627025: 0.001, 0.38104881985288097: 0.001, 0.20690603479080838: 0.001, 0.20828007114941083: 0.001, 0.6563224531132048: 0.001, 0.8245428507273577: 0.001, 0.6987931797420257: 0.001, 0.255150921967792: 0.001, 0.09567455305354267: 0.001, 0.0842243847797316: 0.001, 0.10575604069964661: 0.001, 0.8103026291561394: 0.001, 0.41980328483095564: 0.001, 0.8832494370951757: 0.001, 0.4008282680694989: 0.001, 0.9983928792975294: 0.001, 0.01032939540953437: 0.001, 0.7205578011057476: 0.001, 0.5957008114042732: 0.001, 0.6632777918201052: 0.001, 0.6598135277258631: 0.001, 0.4680771225319199: 0.001, 0.35572236228037546: 0.001, 0.41842964503687086: 0.001, 0.19680719241315903: 0.001, 0.7127724005876581: 0.001, 0.2685178092068149: 0.001, 0.518555598190547: 0.001, 0.8092196192944697: 0.001, 0.935701098071311: 0.001, 0.31742284059855597: 0.001, 0.3810178952318263: 0.001, 0.4747939010117257: 0.001, 0.5653661429899428: 0.001, 0.3779185814228906: 0.001, 0.09247338078333933: 0.001, 0.7049040355409059: 0.001, 0.7886371764872632: 0.001, 0.6531180311966097: 0.001, 0.8889924885116258: 0.001, 0.20013295187185065: 0.001, 0.5316950337730961: 0.001, 0.36283852650126514: 0.001, 0.23869909347279517: 0.001, 0.8302568636542637: 0.001, 0.7030889870558396: 0.001, 0.610504162175656: 0.001, 0.6931332468697867: 0.001, 0.022727056610257423: 0.001, 0.04348521088320911: 0.001, 0.6548403270109131: 0.001, 0.4643602651591985: 0.001, 0.7294007423800138: 0.001, 0.048979215439460266: 0.001, 0.6187385286021396: 0.001, 0.23540001200088279: 0.001, 0.4579518661477203: 0.001, 0.0410791139649731: 0.001, 0.5191678171058065: 0.001, 0.6313228582941759: 0.001, 0.3651699234294383: 0.001, 0.6526091806887572: 0.001, 0.0587777648106631: 0.001, 0.1453515102133126: 0.001, 0.06489218998320623: 0.001, 0.4758633314344566: 0.001, 0.20068593130587142: 0.001, 0.9923348373066693: 0.001, 0.29834762725295216: 0.001, 0.30015007923574843: 0.001, 0.8184301801388291: 0.001, 0.3184543538391261: 0.001, 0.22390010576322084: 0.001, 0.7658237307162398: 0.001, 0.24776611792853032: 0.001, 0.7203996888787473: 0.001, 0.9694870019941921: 0.001, 0.08995302645164949: 0.001, 0.628755191853064: 0.001, 0.1498126675521434: 0.001, 0.3059975734627516: 0.001, 0.661522480677271: 0.001, 0.06849425583152391: 0.001, 0.2371490483059444: 0.001, 0.7997580646807873: 0.001, 0.025299949482307516: 0.001, 0.5647780510057235: 0.001, 0.06782964053381457: 0.001, 0.4285431697499278: 0.001, 0.4452135576975238: 0.001, 0.473319643043999: 0.001, 0.1885983890140115: 0.001, 0.9738867638357828: 0.001, 0.5873608549778233: 0.001, 0.6901479221892934: 0.001, 0.7491778417475788: 0.001, 0.9365875019778478: 0.001, 0.24210564291501435: 0.001, 0.8035097205691305: 0.001, 0.8107380514387867: 0.001, 0.27757031217897365: 0.001, 0.16083970370046208: 0.001, 0.7832627243748432: 0.001, 0.5521483673707733: 0.001, 0.02925516256722105: 0.001, 0.8336793411078864: 0.001, 0.7880570149805918: 0.001, 0.48779877748284395: 0.001, 0.27396117986719437: 0.001, 0.7615815895451326: 0.001, 0.22606830821311896: 0.001, 0.46581488640552826: 0.001, 0.13192199780447578: 0.001, 0.4638017110163699: 0.001, 0.5602375472579224: 0.001, 0.46085219867508154: 0.001, 0.01261170511191767: 0.001, 0.273093060476279: 0.001, 0.7237094943969147: 0.001, 0.34265069430880335: 0.001, 0.47368178759754653: 0.001, 0.46804211644514826: 0.001, 0.7454081340138322: 0.001, 0.5244701577002555: 0.001, 0.08973057114671812: 0.001, 0.32693645798461024: 0.001, 0.350023669474385: 0.001, 0.38245218805668313: 0.001, 0.20496936205893157: 0.001, 0.2733809120569347: 0.001, 0.010979276121627746: 0.001, 0.6430693375032087: 0.001, 0.1880440542236126: 0.001, 0.7918321045197263: 0.001, 0.5119635181188896: 0.001, 0.21604611633957538: 0.001, 0.6209272295944871: 0.001, 0.6524665009300689: 0.001, 0.44543689039694867: 0.001, 0.19186526901777845: 0.001, 0.5132360699953405: 0.001, 0.4258890020318302: 0.001, 0.45185401628710575: 0.001, 0.017684538755389: 0.001, 0.5695702985524275: 0.001, 0.6036229725045522: 0.001, 0.6069838031421018: 0.001, 0.41762043545841: 0.001, 0.6306568845129316: 0.001, 0.726011028791416: 0.001, 0.37587550304862716: 0.001, 0.6643537819754415: 0.001, 0.01684842939823783: 0.001, 0.5011095505589015: 0.001, 0.04060892416603934: 0.001, 0.552399523536474: 0.001, 0.620079093091707: 0.001, 0.3107628435649863: 0.001, 0.2997098299821236: 0.001, 0.8662376614948251: 0.001, 0.49238455021172656: 0.001, 0.6168530277260478: 0.001, 0.7483344705710705: 0.001, 0.4273595032116434: 0.001, 0.44579496553690234: 0.001, 0.4145136997562975: 0.001, 0.8793493418007561: 0.001, 0.4487868209473671: 0.001, 0.8133794537188209: 0.001, 0.238972957428915: 0.001, 0.4121759063101824: 0.001, 0.5998996486478522: 0.001, 0.9973089811495659: 0.001, 0.5433748638488476: 0.001, 0.33204611492121805: 0.001, 0.2935073653120496: 0.001, 0.17235062463729756: 0.001, 0.6242659627218542: 0.001, 0.8594108821332491: 0.001, 0.2552916148291694: 0.001, 0.5959941392643463: 0.001, 0.23918592139534167: 0.001, 0.8033513836904119: 0.001, 0.3353194815164101: 0.001, 0.6455738737448816: 0.001, 0.6661493772898643: 0.001, 0.8213400719377916: 0.001, 0.42627975246570127: 0.001, 0.9423423230663142: 0.001, 0.0029696545140299735: 0.001, 0.6447457025742637: 0.001, 0.3525973252733101: 0.001, 0.23246778066567675: 0.001, 0.44326824105274165: 0.001, 0.5271391379416577: 0.001, 0.3602298111603768: 0.001, 0.3278744906310247: 0.001, 0.19032386468111584: 0.001, 0.7063909611731588: 0.001, 0.6693096072141371: 0.001, 0.6299879199103513: 0.001, 0.6371168423075388: 0.001, 0.2750106993383059: 0.001, 0.48970402131519797: 0.001, 0.8131697333100424: 0.001, 0.2633269259013179: 0.001, 0.5948524206678223: 0.001, 0.4800565005145787: 0.001, 0.14858706349706985: 0.001, 0.36614734681811356: 0.001, 0.5599867852425937: 0.001, 0.49155450608009965: 0.001, 0.35787087870341117: 0.001, 0.14340195655425625: 0.001, 0.8644234223552199: 0.001, 0.6671731368432914: 0.001, 0.7664803120444147: 0.001, 0.03724109557382349: 0.001, 0.6874782428378501: 0.001, 0.6785814825927674: 0.001, 0.8388921187256009: 0.001, 0.22872724135329514: 0.001, 0.3516370272461924: 0.001, 0.3242814890808018: 0.001, 0.17676672870136512: 0.001, 0.4212057985222315: 0.001, 0.9120912789085172: 0.001, 0.8111770423702367: 0.001, 0.17437688063471168: 0.001, 0.4358840869323489: 0.001, 0.2903508122237445: 0.001, 0.04175751005296413: 0.001, 0.7409273124043539: 0.001, 0.8390897489557775: 0.001, 0.9524150253260248: 0.001, 0.3248489035057869: 0.001, 0.6904608402351999: 0.001, 0.4525616338225934: 0.001, 0.7206309190816947: 0.001, 0.2184457693358215: 0.001, 0.26822885035729793: 0.001, 0.08564572511728963: 0.001, 0.6363293223518806: 0.001, 0.6453611813640396: 0.001, 0.258593418541061: 0.001, 0.8810161757501538: 0.001, 0.3697356494231746: 0.001, 0.5242813282505404: 0.001, 0.3685204710929053: 0.001, 0.11306118643969698: 0.001, 0.0019739199621466863: 0.001, 0.9392997499526056: 0.001, 0.3127349638368331: 0.001, 0.4651242132064891: 0.001, 0.07623442585251572: 0.001, 0.3907238771639684: 0.001, 0.8248567526538846: 0.001, 0.9146509715350434: 0.001, 0.14008328568886708: 0.001, 0.24790344001755127: 0.001, 0.923482491359356: 0.001, 0.23216181498526467: 0.001, 0.6007015554533335: 0.001, 0.23126347416991921: 0.001, 0.6716551091447355: 0.001, 0.7209400344282857: 0.001, 0.5606208742799426: 0.001, 0.32316194968426815: 0.001, 0.2922158048080924: 0.001, 0.9716082051565346: 0.001, 0.47173581490199945: 0.001, 0.38369084562751254: 0.001, 0.034828843911485: 0.001, 0.2572143522045398: 0.001, 0.5126343318906582: 0.001, 0.8856377621837671: 0.001, 0.7904509062681944: 0.001, 0.3045499219874387: 0.001, 0.9784453085128672: 0.001, 0.20019897296109002: 0.001, 0.07309232503608387: 0.001, 0.9566139238342172: 0.001, 0.3406210326576513: 0.001, 0.7483970520635436: 0.001, 0.4082465889562735: 0.001, 0.5293502219574914: 0.001, 0.5436142557608097: 0.001, 0.2211855493112722: 0.001, 0.32578473958348964: 0.001, 0.6476916949065237: 0.001, 0.3699776264325063: 0.001, 0.1120637183979899: 0.001, 0.5354950193680884: 0.001, 0.0628004494598452: 0.001, 0.8648772858226559: 0.001, 0.25004103960310875: 0.001, 0.3528006756398131: 0.001, 0.24058976889153683: 0.001, 0.5349129281030744: 0.001, 0.2953579249104379: 0.001, 0.3234058956763569: 0.001, 0.543603328244456: 0.001, 0.024274612367586546: 0.001, 0.9761923938566025: 0.001, 0.6321043824941533: 0.001, 0.9903299449122915: 0.001, 0.1975479773759633: 0.001, 0.13932463144039786: 0.001, 0.5785122401714131: 0.001, 0.3601999689828461: 0.001, 0.7327094957776743: 0.001, 0.04584891712610517: 0.001, 0.148353850325193: 0.001, 0.42623621577059534: 0.001, 0.026674122576168857: 0.001, 0.2789199139347195: 0.001, 0.65503409702958: 0.001, 0.14909852869832496: 0.001, 0.9425891639693271: 0.001, 0.4101555466999117: 0.001, 0.15640725938266087: 0.001, 0.8639921070772238: 0.001, 0.22214960701584952: 0.001, 0.1733388960220269: 0.001, 0.272191508146849: 0.001, 0.25017497577508463: 0.001, 0.6176013144025734: 0.001, 0.9223757117741128: 0.001, 0.7222975904979346: 0.001, 0.4824913973553209: 0.001, 0.8045750869680469: 0.001, 0.9912295200176359: 0.001, 0.11790575269345671: 0.001, 0.28993307259828716: 0.001, 0.38608116512804713: 0.001, 0.4698736276857467: 0.001, 0.43737754322938205: 0.001, 0.6246545724495336: 0.001, 0.40758619842209687: 0.001, 0.8926466699283581: 0.001, 0.14225667641725703: 0.001, 0.09279801749734107: 0.001, 0.7887613642656451: 0.001, 0.781221231254653: 0.001, 0.8812306774478681: 0.001, 0.9980102827353962: 0.001, 0.38249610576901905: 0.001, 0.9434362800678825: 0.001, 0.19816393848357916: 0.001, 0.977872718790201: 0.001, 0.10582507004198094: 0.001, 0.33287571083428447: 0.001, 0.4625397120674244: 0.001, 0.7952617783563053: 0.001, 0.30614284573485195: 0.001, 0.433960616564369: 0.001, 0.19431548895603978: 0.001, 0.052115883373330396: 0.001, 0.9388657558127891: 0.001, 0.14063353784594113: 0.001, 0.7235850884981694: 0.001, 0.8686438068581841: 0.001, 0.1920424745106597: 0.001, 0.6176336707869471: 0.001, 0.926212519935396: 0.001, 0.5495589599968929: 0.001, 0.7807306818652434: 0.001, 0.14493692299171812: 0.001, 0.9817960292268684: 0.001})"
      ]
     },
     "execution_count": 58,
     "metadata": {},
     "output_type": "execute_result"
    }
   ],
   "source": [
    "# Now i'm going to covert this list into a pmf object\n",
    "dat_pmf = thinkstats2.Pmf(dat)\n",
    "dat_pmf"
   ]
  },
  {
   "cell_type": "code",
   "execution_count": 65,
   "metadata": {},
   "outputs": [
    {
     "data": {
      "image/png": "[encoded data removed]",
      "text/plain": [
       "<Figure size 432x288 with 1 Axes>"
      ]
     },
     "metadata": {
      "needs_background": "light"
     },
     "output_type": "display_data"
    }
   ],
   "source": [
    "# Plot the pmf\n",
    "thinkplot.Pmf(dat_pmf)\n",
    "thinkplot.Config(xlabel='random number', ylabel=\"probability\")"
   ]
  },
  {
   "cell_type": "code",
   "execution_count": 74,
   "metadata": {},
   "outputs": [
    {
     "data": {
      "image/png": "[encoded data removed]",
      "text/plain": [
       "<Figure size 432x288 with 1 Axes>"
      ]
     },
     "metadata": {
      "needs_background": "light"
     },
     "output_type": "display_data"
    }
   ],
   "source": [
    "# Since all the numbers are random, they each have the same probability of 0.0010. The pmf plot is not very valuable\n",
    "# with this object, so let's continue. Now, i'm going to plot the Cdf for the original list of random numbers\n",
    "\n",
    "cdf = thinkstats2.Cdf(dat, label='random numbers')\n",
    "thinkplot.Cdf(cdf)\n",
    "thinkplot.Config(xlabel='random numbers', ylabel='CDF')"
   ]
  },
  {
   "cell_type": "code",
   "execution_count": null,
   "metadata": {},
   "outputs": [],
   "source": [
    "# The CDF plot above is a straight line which indicates the distribution is uniform."
   ]
  }
 ],
 "metadata": {
  "kernelspec": {
   "display_name": "Python 3",
   "language": "python",
   "name": "python3"
  },
  "language_info": {
   "codemirror_mode": {
    "name": "ipython",
    "version": 3
   },
   "file_extension": ".py",
   "mimetype": "text/x-python",
   "name": "python",
   "nbconvert_exporter": "python",
   "pygments_lexer": "ipython3",
   "version": "3.8.3"
  }
 },
 "nbformat": 4,
 "nbformat_minor": 4
}
