{
 "cells": [
  {
   "attachments": {},
   "cell_type": "markdown",
   "metadata": {},
   "source": [
    "To summarize what we learned from the calculations we went through in the chapter, there were no significant \n",
    "findings to indicate that first babies are born any later on average that other babies. \n",
    "\n",
    "But, if I was a reporter and I wanted to get my story on the eveing news perhaps I would use the histogram image displayed below to tell a partial story. If you look at the bars for 41 weeks and above, first borns score higher each week. Indicating that most births during weeks 41-43 are first born. However, this is an inaccurate assumption from just a tiny subset of the data."
   ]
  },
  {
   "cell_type": "code",
   "execution_count": 3,
   "metadata": {},
   "outputs": [
    {
     "data": {
      "image/png": "[encoded data removed]",
      "text/plain": [
       "<Figure size 432x288 with 1 Axes>"
      ]
     },
     "metadata": {
      "needs_background": "light"
     },
     "output_type": "display_data"
    }
   ],
   "source": [
    "# Copied code from book exercises to display histogram\n",
    "from __future__ import print_function, division\n",
    "%matplotlib inline\n",
    "import numpy as np\n",
    "import nsfg\n",
    "import first\n",
    "import thinkstats2\n",
    "import thinkplot\n",
    "\n",
    "preg = nsfg.ReadFemPreg()\n",
    "live = preg[preg.outcome == 1]\n",
    "\n",
    "firsts = live[live.birthord == 1]\n",
    "others = live[live.birthord != 1]\n",
    "\n",
    "first_hist = thinkstats2.Hist(firsts.prglngth, label='first')\n",
    "other_hist = thinkstats2.Hist(others.prglngth, label='other')\n",
    "\n",
    "width = 0.45\n",
    "thinkplot.PrePlot(2)\n",
    "thinkplot.Hist(first_hist, align='right', width=width)\n",
    "thinkplot.Hist(other_hist, align='left', width=width)\n",
    "thinkplot.Config(xlabel='weeks', ylabel='Count', xlim=[27, 46])"
   ]
  },
  {
   "cell_type": "markdown",
   "metadata": {},
   "source": [
    "If I were a doctor, wishing to reassure an anxious patient, I would definitely use the means \"averages\" of pregnancy length by birth order. Which shows that the average for all births was 38.6 weeks, and first births fall right on average also at 38.6 weeks. \n",
    "\n",
    "Then, if I were Cecil Adams, the author fo the Straight Dope, which I had to google because I've never heard of it, I would also use the averages listed above, but include the information about the effect size. To show what the actual numbers mean, by showing how big the actual effect is, is an important part when presenting the data. In this example, the difference between first borns and others pregnancy length was 0.078 weeks, which calculates out to only 13 hours difference. Which is basically nothing.\n",
    "\n",
    "So, do first babies arrive late? The answer is no. After taking a look at the histogram, then analyzing the descriptive statistics, there is only the tiniest bit of difference between first born pregnancy lenght and other babies pregnancy length. In fact, the total difference was only that first born babies are born on average 13 hours earlier than other babies, which in only a 0.2% difference when accounting for the length of an average pregnancy. Using the results from Cohen's d the difference in means was 0.029 standard deviations. As a rule of thumb, any results below 0.2 are of small effect, basically trivial results."
   ]
  }
 ],
 "metadata": {
  "kernelspec": {
   "display_name": "Python 3",
   "language": "python",
   "name": "python3"
  },
  "language_info": {
   "codemirror_mode": {
    "name": "ipython",
    "version": 3
   },
   "file_extension": ".py",
   "mimetype": "text/x-python",
   "name": "python",
   "nbconvert_exporter": "python",
   "pygments_lexer": "ipython3",
   "version": "3.8.3"
  }
 },
 "nbformat": 4,
 "nbformat_minor": 4
}
