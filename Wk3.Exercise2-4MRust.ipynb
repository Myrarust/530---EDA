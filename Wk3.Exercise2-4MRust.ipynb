{
 "cells": [
  {
   "cell_type": "code",
   "execution_count": 2,
   "metadata": {},
   "outputs": [],
   "source": [
    "from __future__ import print_function\n",
    "\n",
    "import math\n",
    "import numpy as np\n",
    "\n",
    "import nsfg\n",
    "import thinkstats2\n",
    "import thinkplot"
   ]
  },
  {
   "cell_type": "code",
   "execution_count": 3,
   "metadata": {},
   "outputs": [],
   "source": [
    "# Read in file and take out all values that didn't result in a live birth\n",
    "preg = nsfg.ReadFemPreg()\n",
    "live = preg[preg.outcome ==1]"
   ]
  },
  {
   "cell_type": "code",
   "execution_count": 4,
   "metadata": {},
   "outputs": [
    {
     "data": {
      "image/png": "[encoded data removed]",
      "text/plain": [
       "<Figure size 432x288 with 1 Axes>"
      ]
     },
     "metadata": {
      "needs_background": "light"
     },
     "output_type": "display_data"
    },
    {
     "data": {
      "text/plain": [
       "<Figure size 576x432 with 0 Axes>"
      ]
     },
     "metadata": {},
     "output_type": "display_data"
    }
   ],
   "source": [
    "# Mean birthweight for all live births\n",
    "hist = thinkstats2.Hist(live.birthwgt_lb, label='birthwgt_lb')\n",
    "thinkplot.Hist(hist)\n",
    "thinkplot.Show(xlabel='pounds', ylabel='frequency')"
   ]
  },
  {
   "cell_type": "code",
   "execution_count": 5,
   "metadata": {},
   "outputs": [],
   "source": [
    "# Split data into 2 groups by birth order and compute their hist objects\n",
    "firsts = live[live.birthord == 1]\n",
    "others = live[live.birthord != 1]\n",
    "\n",
    "first_hist = thinkstats2.Hist(firsts.totalwgt_lb)\n",
    "other_hist = thinkstats2.Hist(others.totalwgt_lb)"
   ]
  },
  {
   "cell_type": "code",
   "execution_count": 6,
   "metadata": {},
   "outputs": [
    {
     "data": {
      "image/png": "[encoded data removed]",
      "text/plain": [
       "<Figure size 432x288 with 1 Axes>"
      ]
     },
     "metadata": {
      "needs_background": "light"
     },
     "output_type": "display_data"
    },
    {
     "data": {
      "image/png": "[encoded data removed]",
      "text/plain": [
       "<Figure size 576x432 with 1 Axes>"
      ]
     },
     "metadata": {
      "needs_background": "light"
     },
     "output_type": "display_data"
    },
    {
     "data": {
      "text/plain": [
       "<Figure size 576x432 with 0 Axes>"
      ]
     },
     "metadata": {},
     "output_type": "display_data"
    }
   ],
   "source": [
    "# Plot histograms and compare\n",
    "thinkplot.Hist(first_hist)\n",
    "thinkplot.Show(xlabel='pounds', ylabel='frequency')\n",
    "thinkplot.Hist(other_hist)\n",
    "thinkplot.Show(xlabel='pounds', ylabel='frequency')\n"
   ]
  },
  {
   "cell_type": "code",
   "execution_count": 7,
   "metadata": {},
   "outputs": [
    {
     "name": "stdout",
     "output_type": "stream",
     "text": [
      "mean weight of all births =  7.265628457623368\n",
      "mean weight of first born =  7.201094430437772\n",
      "mean weight of others born =  7.325855614973262\n",
      "Standard deviation for all birth weights =  1.4082934455690168\n"
     ]
    }
   ],
   "source": [
    "# Calculate descriptive statistics for all, first, and other births\n",
    "mean = live.totalwgt_lb.mean()\n",
    "std = live.totalwgt_lb.std()\n",
    "\n",
    "mean_firsts = firsts.totalwgt_lb.mean()\n",
    "varfirsts = firsts.totalwgt_lb.var()\n",
    "stdfirsts = firsts.totalwgt_lb.std()\n",
    "\n",
    "mean_others = others.totalwgt_lb.mean()\n",
    "var_others = others.totalwgt_lb.var()\n",
    "std_others = others.totalwgt_lb.std()\n",
    "\n",
    "print(\"mean weight of all births = \", mean)\n",
    "print(\"mean weight of first born = \", mean_firsts)\n",
    "print(\"mean weight of others born = \", mean_others)\n",
    "\n",
    "print(\"Standard deviation for all birth weights = \", std)"
   ]
  },
  {
   "cell_type": "code",
   "execution_count": 11,
   "metadata": {},
   "outputs": [
    {
     "name": "stdout",
     "output_type": "stream",
     "text": [
      "caseid         0.033072\n",
      "pregordr      -1.631418\n",
      "howpreg_n           NaN\n",
      "howpreg_p           NaN\n",
      "moscurrp            NaN\n",
      "                 ...   \n",
      "finalwgt      -0.055088\n",
      "secu_p        -0.010242\n",
      "sest           0.025330\n",
      "cmintvw             NaN\n",
      "totalwgt_lb   -0.088673\n",
      "Length: 244, dtype: float64\n"
     ]
    }
   ],
   "source": [
    "# Define function to compute Cohen's d to quantify the difference between groups\n",
    "def CohenEffectSize(group1, group2):\n",
    "    diff = group1.mean() - group2.mean()\n",
    "    \n",
    "    var1 = group1.var()\n",
    "    var2 = group2.var()\n",
    "    n1, n2 = len(group1), len(group2)\n",
    "    \n",
    "    pooled_var = (n1 * var1 + n2 * var2) / (n1 + n2)\n",
    "    d = diff / np.sqrt(pooled_var)\n",
    "    return d\n",
    "\n",
    "# Call the function and view results\n",
    "print(CohenEffectSize(firsts, others))"
   ]
  },
  {
   "cell_type": "code",
   "execution_count": null,
   "metadata": {},
   "outputs": [],
   "source": [
    "'''To investigate whether first babies are lighter or heavier than others, first I viewed the histograms\n",
    "of those two groups and nothing particular stood out. Then, I used descriptive statistics to view the means for\n",
    "all birthweights (7.26 lbs), first birthweights(7.2 lbs), and other birthweights(7.35 obs). According to \n",
    "the means, others births tend to be a bit heavier, a difference of 0.125 lbs, which comes out to 2 ounces. \n",
    "But when you look at the fact that the average birth weight was 116.25 ounces, 2 ounces only comes out to \n",
    "be 0.017% difference, which is not a significant find. Lastly, I calculated cohens d using the two groups. \n",
    "The result was 0.088, which is a small effect. \n",
    "\n",
    "In conclusion: There were no significant finding to suggest that first babies are either lighter or heavier than \n",
    "other babies. '''"
   ]
  }
 ],
 "metadata": {
  "kernelspec": {
   "display_name": "Python 3",
   "language": "python",
   "name": "python3"
  },
  "language_info": {
   "codemirror_mode": {
    "name": "ipython",
    "version": 3
   },
   "file_extension": ".py",
   "mimetype": "text/x-python",
   "name": "python",
   "nbconvert_exporter": "python",
   "pygments_lexer": "ipython3",
   "version": "3.8.3"
  }
 },
 "nbformat": 4,
 "nbformat_minor": 4
}
