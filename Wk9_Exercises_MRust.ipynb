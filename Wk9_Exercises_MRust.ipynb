{
 "cells": [
  {
   "cell_type": "code",
   "execution_count": 15,
   "metadata": {},
   "outputs": [],
   "source": [
    "# import libraries\n",
    "import numpy as np\n",
    "import pandas as pd\n",
    "import random\n",
    "import thinkstats2\n",
    "import thinkplot\n",
    "import patsy\n",
    "import re\n",
    "import statsmodels.formula.api as smf"
   ]
  },
  {
   "cell_type": "code",
   "execution_count": 12,
   "metadata": {},
   "outputs": [],
   "source": [
    "# Copy over defined functions from book, but altered them to use for my assignment\n",
    "\n",
    "def GoMining(df):\n",
    "    variables = []\n",
    "    for name in df.columns:\n",
    "        try:\n",
    "            if df[name].var() < 1e-7:\n",
    "                continue\n",
    "\n",
    "            formula = 'prglngth ~ ' + name\n",
    "\n",
    "            model = smf.ols(formula, data=df)\n",
    "            if model.nobs < len(df)/2:\n",
    "                continue\n",
    "\n",
    "            results = model.fit()\n",
    "        except (ValueError, TypeError):\n",
    "            continue\n",
    "\n",
    "        variables.append((results.rsquared, name))\n",
    "\n",
    "    return variables\n",
    "\n",
    "def ReadVariables():\n",
    "    vars1 = thinkstats2.ReadStataDct('2002FemPreg.dct').variables\n",
    "    vars2 = thinkstats2.ReadStataDct('2002FemResp.dct').variables\n",
    "\n",
    "    all_vars = vars1.append(vars2)\n",
    "    all_vars.index = all_vars.name\n",
    "    return all_vars\n",
    "\n",
    "def MiningReport(variables, n=50):\n",
    "    all_vars = ReadVariables()\n",
    "\n",
    "    variables.sort(reverse=True)\n",
    "    for r2, name in variables[:n]:\n",
    "        key = re.sub('_r$', '', name)\n",
    "        try:\n",
    "            desc = all_vars.loc[key].desc\n",
    "            if isinstance(desc, pd.Series):\n",
    "                desc = desc[0]\n",
    "            print(name, r2, desc)\n",
    "        except (KeyError, IndexError):\n",
    "            print(name, r2)"
   ]
  },
  {
   "cell_type": "markdown",
   "metadata": {
    "collapsed": true
   },
   "source": [
    "## Exercise 11-1"
   ]
  },
  {
   "cell_type": "markdown",
   "metadata": {
    "collapsed": true
   },
   "source": [
    "**Exercise:** Suppose one of your co-workers is expecting a baby and you are participating in an office pool to predict the date of birth. Assuming that bets are placed during the 30th week of pregnancy, what variables could you use to make the best prediction? You should limit yourself to variables that are known before the birth, and likely to be available to the people in the pool."
   ]
  },
  {
   "cell_type": "code",
   "execution_count": 3,
   "metadata": {},
   "outputs": [],
   "source": [
    "import first\n",
    "live, firsts, others = first.MakeFrames()\n",
    "live = live[live.prglngth>30]"
   ]
  },
  {
   "cell_type": "code",
   "execution_count": 7,
   "metadata": {},
   "outputs": [],
   "source": [
    "# Call the GoMining function which I altered to calculate R2 for prglngth variable\n",
    "variables = GoMining(live)"
   ]
  },
  {
   "cell_type": "code",
   "execution_count": 8,
   "metadata": {
    "scrolled": true
   },
   "outputs": [
    {
     "name": "stdout",
     "output_type": "stream",
     "text": [
      "prglngth 1.0 DURATION OF COMPLETED PREGNANCY IN WEEKS\n",
      "wksgest 0.8062434116139248 GESTATIONAL LENGTH OF COMPLETED PREGNANCY (IN WEEKS)\n",
      "totalwgt_lb 0.12445743148120225\n",
      "birthwgt_lb 0.11977307804917248 BD-3 BIRTHWEIGHT IN POUNDS - 1ST BABY FROM THIS PREGNANCY\n",
      "lbw1 0.10372542204583246 LOW BIRTHWEIGHT - BABY 1\n",
      "mosgest 0.09562431989592235 GESTATIONAL LENGTH OF COMPLETED PREGNANCY (IN MONTHS)\n",
      "prglngth_i 0.022053775796472053 PRGLNGTH IMPUTATION FLAG\n",
      "nbrnaliv 0.004577565785538473 BC-2 NUMBER OF BABIES BORN ALIVE FROM THIS PREGNANCY\n",
      "anynurse 0.002452024883713211 BH-1 WHETHER R BREASTFED THIS CHILD AT ALL - 1ST FROM THIS PREG\n",
      "bfeedwks 0.002369183944671338 DURATION OF BREASTFEEDING IN WEEKS\n",
      "pregend1 0.002249389433796045 BC-1 HOW PREGNANCY ENDED - 1ST MENTION\n",
      "cmlastlb 0.0020431424422018285 CM FOR R'S MOST RECENT LIVE BIRTH\n",
      "fmarcon5_i 0.001968159324254537 FMARCON5 IMPUTATION FLAG\n",
      "evuseint 0.0018917527758633979 EG-1 USE ANY METHOD IN PREGNANCY INTERVAL?\n",
      "gestasun_m 0.001657131955017932 BC-5 GESTATIONAL LENGTH OF PREGNANCY IN MONTHS\n",
      "sest 0.0013223681981657798 SCRAMBLED VERSION OF THE STRATUM\n",
      "matchfound 0.001309107377125751 CHECK ON WHETHER CHILD MATCHES BIO CHILD IN HH ROSTER - 1ST\n",
      "cmlstprg 0.0012828619646414463 CM FOR R'S MOST RECENT COMPLETED PREGNANCY\n",
      "birthord 0.001237273673660888 BIRTH ORDER\n",
      "frsteatd_p 0.0011558077327729066 BH-3 UNITS (MOS/WKS/DAYS) FOR FRSTEATD_N - 1ST FROM THIS PREG\n",
      "wantbold 0.0011362202442938285 EG-6 RIGHT BEF PREG, WANT TO HAVE BABY AT ANY TIME IN FUTURE?\n",
      "poverty 0.0011234153756987109 POVERTY LEVEL INCOME\n",
      "gestasun_w 0.0010513799087212838 BC-5 GESTATIONAL LENGTH OF PREGNANCY IN WEEKS\n",
      "cmintstr 0.0008739692958186218 CM FOR DATE OF BEGINNING OF PREGNANCY INTERVAL\n",
      "fmarout5_i 0.0008379093819014249 FMAROUT5 IMPUTATION FLAG\n",
      "rmarout6_i 0.000791768162910822 RMAROUT6 IMPUTATION FLAG\n",
      "hispanic 0.0006600916447420113 HISPANIC ORIGIN\n",
      "pregordr 0.0006222414860668213 PREGNANCY ORDER (NUMBER)\n",
      "educat 0.0005906824403374422 EDUCATION (COMPLETED YEARS OF SCHOOLING)\n",
      "fmarital 0.0005724780640544713 FORMAL MARITAL STATUS\n"
     ]
    }
   ],
   "source": [
    "# Use the functions to sort and display the list of the highest scoring R2 variables for prglngth\n",
    "MiningReport(variables)"
   ]
  },
  {
   "cell_type": "code",
   "execution_count": null,
   "metadata": {},
   "outputs": [],
   "source": [
    "# Based on the list above: nbrnaliv - # of babies born alive had R2 of 0.005 & birthord - birth order had R2 of 0.001 are \n",
    "# the only variables I see that you would realistically know about a coworker. This doesn't quite match up with the \n",
    "# solution file, so I'm going to add in the respondent data and see what pops up then. I'm also going to increase the \n",
    "# list to top 50. "
   ]
  },
  {
   "cell_type": "code",
   "execution_count": 9,
   "metadata": {},
   "outputs": [],
   "source": [
    "import nsfg\n",
    "live = live[live.prglngth>30]\n",
    "resp = nsfg.ReadFemResp()\n",
    "resp.index = resp.caseid\n",
    "join = live.join(resp, on='caseid', rsuffix='_r')"
   ]
  },
  {
   "cell_type": "code",
   "execution_count": 13,
   "metadata": {},
   "outputs": [],
   "source": [
    "variables2 = GoMining(join)"
   ]
  },
  {
   "cell_type": "code",
   "execution_count": 14,
   "metadata": {},
   "outputs": [
    {
     "name": "stdout",
     "output_type": "stream",
     "text": [
      "prglngth 1.0 DURATION OF COMPLETED PREGNANCY IN WEEKS\n",
      "wksgest 0.8062434116139248 GESTATIONAL LENGTH OF COMPLETED PREGNANCY (IN WEEKS)\n",
      "totalwgt_lb 0.12445743148120225\n",
      "birthwgt_lb 0.11977307804917248 BD-3 BIRTHWEIGHT IN POUNDS - 1ST BABY FROM THIS PREGNANCY\n",
      "lbw1 0.10372542204583246 LOW BIRTHWEIGHT - BABY 1\n",
      "mosgest 0.09562431989592235 GESTATIONAL LENGTH OF COMPLETED PREGNANCY (IN MONTHS)\n",
      "prglngth_i 0.022053775796472053 PRGLNGTH IMPUTATION FLAG\n",
      "canhaver 0.006050495268195344 DF-1 PHYSICALLY DIFFICULT FOR R TO HAVE A BABY\n",
      "datcon01_i 0.00581775529987516 DATCON01 IMPUTATION FLAG\n",
      "con1mar1_i 0.005546376136237985 CON1MAR1 IMPUTATION FLAG\n",
      "nbrnaliv 0.004577565785538473 BC-2 NUMBER OF BABIES BORN ALIVE FROM THIS PREGNANCY\n",
      "mar1con1_i 0.0031508022538604408 MAR1CON1 IMPUTATION FLAG\n",
      "anynurse 0.002452024883713211 BH-1 WHETHER R BREASTFED THIS CHILD AT ALL - 1ST FROM THIS PREG\n",
      "bfeedwks 0.002369183944671338 DURATION OF BREASTFEEDING IN WEEKS\n",
      "pregend1 0.002249389433796045 BC-1 HOW PREGNANCY ENDED - 1ST MENTION\n",
      "rmarout11_i 0.0022436279681120608 RMAROUT11 IMPUTATION FLAG\n",
      "marout11_i 0.0022436279681120608 MAROUT11 IMPUTATION FLAG\n",
      "marcon11_i 0.0022436279681120608 MARCON11 IMPUTATION FLAG\n",
      "cmlastlb_r 0.0020431424422018285 CM FOR R'S MOST RECENT LIVE BIRTH\n",
      "cmlastlb 0.0020431424422018285 CM FOR R'S MOST RECENT LIVE BIRTH\n",
      "datend02_i 0.0020124833927520624 DATEND02 IMPUTATION FLAG\n",
      "datcon02_i 0.0020124833927520624 DATCON02 IMPUTATION FLAG\n",
      "agecon02_i 0.001988286768876635 AGECON02 IMPUTATION FLAG\n",
      "fmarcon5_i 0.001968159324254537 FMARCON5 IMPUTATION FLAG\n",
      "ageprg02_i 0.001952807236884735 AGEPRG02 IMPUTATION FLAG\n",
      "evuseint 0.0018917527758633979 EG-1 USE ANY METHOD IN PREGNANCY INTERVAL?\n",
      "paydu 0.0018768219030130817 IB-10 CURRENT LIVING QUARTERS OWNED/RENTED, ETC\n",
      "marcon03_i 0.001791141040156874 MARCON03 IMPUTATION FLAG\n",
      "anymschp 0.0017799984332449448 ANY MEDICAL HELP TO PREVENT MISCARRIAGE\n",
      "gestasun_m 0.001657131955017932 BC-5 GESTATIONAL LENGTH OF PREGNANCY IN MONTHS\n",
      "hlpmc 0.001612521061643557 HB-1 EVER RECEIVED MEDICAL HELP TO PREVENT MISCARRIAGE\n",
      "diabetes 0.0016007072269990097 HD-5 DIABETES: EVER DIAGNOSED\n",
      "marout04_i 0.0015923790965410856 MAROUT04 IMPUTATION FLAG\n",
      "ptsb4mar 0.001586912143832886 CH-3 # OF MALE SEX PARTNERS PRIOR TO 1ST MARRIAGE\n",
      "rmarout08_i 0.001583332176649077 RMAROUT08 IMPUTATION FLAG\n",
      "marout08_i 0.001583332176649077 MAROUT08 IMPUTATION FLAG\n",
      "cmhivtst 0.0014807837917099054 CM OF LAST (OR MOST RECENT) HIV TEST\n",
      "todayspg 0.0014758372585266244 EA-16 R EVER USED THE TODAY SPONGE?\n",
      "marbefhx 0.001441277832584631 CB-12 WAS HE MARRIED BEFORE-1ST HUSBAND\n",
      "rmarout10_i 0.0014292467614153148 RMAROUT10 IMPUTATION FLAG\n",
      "marout10_i 0.0014292467614153148 MAROUT10 IMPUTATION FLAG\n",
      "marcon10_i 0.0014292467614153148 MARCON10 IMPUTATION FLAG\n",
      "widrawal 0.0014141229837362213 EA-4 R EVER USED WITHDRAWAL?\n",
      "liv1chld 0.0014108448299690046 LIVING ARRANGEMENTS OF 1ST LIVEBORN CHILD\n",
      "methdiss 0.0014015912616963666 EA-22 R EVER STOP USING METHOD BECAUSE DISSATISFIED WITH IT\n",
      "marout03_i 0.0013436853022831263 MAROUT03 IMPUTATION FLAG\n",
      "oldwp02_i 0.0013255949986424875 OLDWP02 IMPUTATION FLAG\n",
      "sest_r 0.0013223681981657798 SCRAMBLED VERSION OF THE STRATUM\n",
      "sest 0.0013223681981657798 SCRAMBLED VERSION OF THE STRATUM\n",
      "wantrp07_i 0.0013192917167101914 WANTRP07 IMPUTATION FLAG\n"
     ]
    }
   ],
   "source": [
    "MiningReport(variables2)"
   ]
  },
  {
   "cell_type": "code",
   "execution_count": null,
   "metadata": {},
   "outputs": [],
   "source": [
    "# Here we still have nbrnaliv - # of babies born alive had R2 of 0.005 & paydu - current living quarters owned or \n",
    "# rented had R2 of 0.002, but birthorder didn't make the list and a lot of this stuff is not public knowledge. "
   ]
  },
  {
   "cell_type": "code",
   "execution_count": 20,
   "metadata": {},
   "outputs": [
    {
     "data": {
      "text/html": [
       "<table class=\"simpletable\">\n",
       "<caption>OLS Regression Results</caption>\n",
       "<tr>\n",
       "  <th>Dep. Variable:</th>        <td>prglngth</td>     <th>  R-squared:         </th> <td>   0.010</td> \n",
       "</tr>\n",
       "<tr>\n",
       "  <th>Model:</th>                   <td>OLS</td>       <th>  Adj. R-squared:    </th> <td>   0.010</td> \n",
       "</tr>\n",
       "<tr>\n",
       "  <th>Method:</th>             <td>Least Squares</td>  <th>  F-statistic:       </th> <td>   46.65</td> \n",
       "</tr>\n",
       "<tr>\n",
       "  <th>Date:</th>             <td>Thu, 29 Oct 2020</td> <th>  Prob (F-statistic):</th> <td>6.98e-21</td> \n",
       "</tr>\n",
       "<tr>\n",
       "  <th>Time:</th>                 <td>19:05:45</td>     <th>  Log-Likelihood:    </th> <td> -18252.</td> \n",
       "</tr>\n",
       "<tr>\n",
       "  <th>No. Observations:</th>      <td>  8884</td>      <th>  AIC:               </th> <td>3.651e+04</td>\n",
       "</tr>\n",
       "<tr>\n",
       "  <th>Df Residuals:</th>          <td>  8881</td>      <th>  BIC:               </th> <td>3.653e+04</td>\n",
       "</tr>\n",
       "<tr>\n",
       "  <th>Df Model:</th>              <td>     2</td>      <th>                     </th>     <td> </td>    \n",
       "</tr>\n",
       "<tr>\n",
       "  <th>Covariance Type:</th>      <td>nonrobust</td>    <th>                     </th>     <td> </td>    \n",
       "</tr>\n",
       "</table>\n",
       "<table class=\"simpletable\">\n",
       "<tr>\n",
       "            <td></td>              <th>coef</th>     <th>std err</th>      <th>t</th>      <th>P>|t|</th>  <th>[0.025</th>    <th>0.975]</th>  \n",
       "</tr>\n",
       "<tr>\n",
       "  <th>Intercept</th>            <td>   38.8430</td> <td>    0.028</td> <td> 1375.690</td> <td> 0.000</td> <td>   38.788</td> <td>   38.898</td>\n",
       "</tr>\n",
       "<tr>\n",
       "  <th>nbrnaliv > 1[T.True]</th> <td>   -1.5093</td> <td>    0.164</td> <td>   -9.182</td> <td> 0.000</td> <td>   -1.832</td> <td>   -1.187</td>\n",
       "</tr>\n",
       "<tr>\n",
       "  <th>paydu == 1[T.True]</th>   <td>    0.1175</td> <td>    0.040</td> <td>    2.933</td> <td> 0.003</td> <td>    0.039</td> <td>    0.196</td>\n",
       "</tr>\n",
       "</table>\n",
       "<table class=\"simpletable\">\n",
       "<tr>\n",
       "  <th>Omnibus:</th>       <td>1556.606</td> <th>  Durbin-Watson:     </th> <td>   1.620</td>\n",
       "</tr>\n",
       "<tr>\n",
       "  <th>Prob(Omnibus):</th>  <td> 0.000</td>  <th>  Jarque-Bera (JB):  </th> <td>6047.201</td>\n",
       "</tr>\n",
       "<tr>\n",
       "  <th>Skew:</th>           <td>-0.834</td>  <th>  Prob(JB):          </th> <td>    0.00</td>\n",
       "</tr>\n",
       "<tr>\n",
       "  <th>Kurtosis:</th>       <td> 6.681</td>  <th>  Cond. No.          </th> <td>    9.36</td>\n",
       "</tr>\n",
       "</table><br/><br/>Warnings:<br/>[1] Standard Errors assume that the covariance matrix of the errors is correctly specified."
      ],
      "text/plain": [
       "<class 'statsmodels.iolib.summary.Summary'>\n",
       "\"\"\"\n",
       "                            OLS Regression Results                            \n",
       "==============================================================================\n",
       "Dep. Variable:               prglngth   R-squared:                       0.010\n",
       "Model:                            OLS   Adj. R-squared:                  0.010\n",
       "Method:                 Least Squares   F-statistic:                     46.65\n",
       "Date:                Thu, 29 Oct 2020   Prob (F-statistic):           6.98e-21\n",
       "Time:                        19:05:45   Log-Likelihood:                -18252.\n",
       "No. Observations:                8884   AIC:                         3.651e+04\n",
       "Df Residuals:                    8881   BIC:                         3.653e+04\n",
       "Df Model:                           2                                         \n",
       "Covariance Type:            nonrobust                                         \n",
       "========================================================================================\n",
       "                           coef    std err          t      P>|t|      [0.025      0.975]\n",
       "----------------------------------------------------------------------------------------\n",
       "Intercept               38.8430      0.028   1375.690      0.000      38.788      38.898\n",
       "nbrnaliv > 1[T.True]    -1.5093      0.164     -9.182      0.000      -1.832      -1.187\n",
       "paydu == 1[T.True]       0.1175      0.040      2.933      0.003       0.039       0.196\n",
       "==============================================================================\n",
       "Omnibus:                     1556.606   Durbin-Watson:                   1.620\n",
       "Prob(Omnibus):                  0.000   Jarque-Bera (JB):             6047.201\n",
       "Skew:                          -0.834   Prob(JB):                         0.00\n",
       "Kurtosis:                       6.681   Cond. No.                         9.36\n",
       "==============================================================================\n",
       "\n",
       "Warnings:\n",
       "[1] Standard Errors assume that the covariance matrix of the errors is correctly specified.\n",
       "\"\"\""
      ]
     },
     "execution_count": 20,
     "metadata": {},
     "output_type": "execute_result"
    }
   ],
   "source": [
    "# I'm going to run the stat summary on the second set of variables, since it was more comprehensive\n",
    "results = smf.ols('prglngth ~ nbrnaliv>1 + paydu == 1', data=join).fit()\n",
    "results.summary()"
   ]
  },
  {
   "cell_type": "code",
   "execution_count": null,
   "metadata": {},
   "outputs": [],
   "source": [
    "# The variables that I see to cause the most effect is Twins or not and what child this is for the mother."
   ]
  },
  {
   "cell_type": "markdown",
   "metadata": {},
   "source": [
    "## Exercise 11-3"
   ]
  },
  {
   "cell_type": "markdown",
   "metadata": {},
   "source": [
    "**Exercise:** If the quantity you want to predict is a count, you can use Poisson regression, which is implemented in StatsModels with a function called `poisson`. It works the same way as `ols` and `logit`. As an exercise, let’s use it to predict how many children a woman has born; in the NSFG dataset, this variable is called `numbabes`.\n",
    "\n",
    "Suppose you meet a woman who is 35 years old, black, and a college graduate whose annual household income exceeds $75,000. How many children would you predict she has born?"
   ]
  },
  {
   "cell_type": "code",
   "execution_count": 41,
   "metadata": {},
   "outputs": [
    {
     "name": "stdout",
     "output_type": "stream",
     "text": [
      "Optimization terminated successfully.\n",
      "         Current function value: 1.590769\n",
      "         Iterations 5\n"
     ]
    },
    {
     "data": {
      "text/html": [
       "<table class=\"simpletable\">\n",
       "<caption>Poisson Regression Results</caption>\n",
       "<tr>\n",
       "  <th>Dep. Variable:</th>       <td>numbabes</td>     <th>  No. Observations:  </th>  <td>  4239</td>  \n",
       "</tr>\n",
       "<tr>\n",
       "  <th>Model:</th>                <td>Poisson</td>     <th>  Df Residuals:      </th>  <td>  4234</td>  \n",
       "</tr>\n",
       "<tr>\n",
       "  <th>Method:</th>                 <td>MLE</td>       <th>  Df Model:          </th>  <td>     4</td>  \n",
       "</tr>\n",
       "<tr>\n",
       "  <th>Date:</th>            <td>Thu, 29 Oct 2020</td> <th>  Pseudo R-squ.:     </th>  <td>0.01333</td> \n",
       "</tr>\n",
       "<tr>\n",
       "  <th>Time:</th>                <td>19:19:56</td>     <th>  Log-Likelihood:    </th> <td> -6743.3</td> \n",
       "</tr>\n",
       "<tr>\n",
       "  <th>converged:</th>             <td>True</td>       <th>  LL-Null:           </th> <td> -6834.4</td> \n",
       "</tr>\n",
       "<tr>\n",
       "  <th>Covariance Type:</th>     <td>nonrobust</td>    <th>  LLR p-value:       </th> <td>2.464e-38</td>\n",
       "</tr>\n",
       "</table>\n",
       "<table class=\"simpletable\">\n",
       "<tr>\n",
       "      <td></td>         <th>coef</th>     <th>std err</th>      <th>z</th>      <th>P>|z|</th>  <th>[0.025</th>    <th>0.975]</th>  \n",
       "</tr>\n",
       "<tr>\n",
       "  <th>Intercept</th> <td>    0.3978</td> <td>    0.075</td> <td>    5.338</td> <td> 0.000</td> <td>    0.252</td> <td>    0.544</td>\n",
       "</tr>\n",
       "<tr>\n",
       "  <th>ager</th>      <td>    0.0206</td> <td>    0.002</td> <td>   11.993</td> <td> 0.000</td> <td>    0.017</td> <td>    0.024</td>\n",
       "</tr>\n",
       "<tr>\n",
       "  <th>race</th>      <td>   -0.0433</td> <td>    0.019</td> <td>   -2.313</td> <td> 0.021</td> <td>   -0.080</td> <td>   -0.007</td>\n",
       "</tr>\n",
       "<tr>\n",
       "  <th>totincr</th>   <td>   -0.0201</td> <td>    0.003</td> <td>   -6.999</td> <td> 0.000</td> <td>   -0.026</td> <td>   -0.014</td>\n",
       "</tr>\n",
       "<tr>\n",
       "  <th>havedeg</th>   <td>    0.0126</td> <td>    0.005</td> <td>    2.382</td> <td> 0.017</td> <td>    0.002</td> <td>    0.023</td>\n",
       "</tr>\n",
       "</table>"
      ],
      "text/plain": [
       "<class 'statsmodels.iolib.summary.Summary'>\n",
       "\"\"\"\n",
       "                          Poisson Regression Results                          \n",
       "==============================================================================\n",
       "Dep. Variable:               numbabes   No. Observations:                 4239\n",
       "Model:                        Poisson   Df Residuals:                     4234\n",
       "Method:                           MLE   Df Model:                            4\n",
       "Date:                Thu, 29 Oct 2020   Pseudo R-squ.:                 0.01333\n",
       "Time:                        19:19:56   Log-Likelihood:                -6743.3\n",
       "converged:                       True   LL-Null:                       -6834.4\n",
       "Covariance Type:            nonrobust   LLR p-value:                 2.464e-38\n",
       "==============================================================================\n",
       "                 coef    std err          z      P>|z|      [0.025      0.975]\n",
       "------------------------------------------------------------------------------\n",
       "Intercept      0.3978      0.075      5.338      0.000       0.252       0.544\n",
       "ager           0.0206      0.002     11.993      0.000       0.017       0.024\n",
       "race          -0.0433      0.019     -2.313      0.021      -0.080      -0.007\n",
       "totincr       -0.0201      0.003     -6.999      0.000      -0.026      -0.014\n",
       "havedeg        0.0126      0.005      2.382      0.017       0.002       0.023\n",
       "==============================================================================\n",
       "\"\"\""
      ]
     },
     "execution_count": 41,
     "metadata": {},
     "output_type": "execute_result"
    }
   ],
   "source": [
    "# Create a formula for the regression test\n",
    "formula = 'numbabes ~ ager + race + totincr + havedeg'\n",
    "results = smf.poisson(formula, data=join).fit()\n",
    "results.summary()"
   ]
  },
  {
   "cell_type": "code",
   "execution_count": 39,
   "metadata": {},
   "outputs": [
    {
     "ename": "PatsyError",
     "evalue": "predict requires that you use a DataFrame when predicting from a model\nthat was created using the formula api.\n\nThe original error message returned by patsy is:\nError evaluating factor: NameError: name 'ager' is not defined\n    numbabes ~ ager + C(race) + totincr + havedeg\n               ^^^^",
     "output_type": "error",
     "traceback": [
      "\u001b[1;31m---------------------------------------------------------------------------\u001b[0m",
      "\u001b[1;31mNameError\u001b[0m                                 Traceback (most recent call last)",
      "\u001b[1;32m~\\anaconda3\\lib\\site-packages\\patsy\\compat.py\u001b[0m in \u001b[0;36mcall_and_wrap_exc\u001b[1;34m(msg, origin, f, *args, **kwargs)\u001b[0m\n\u001b[0;32m     35\u001b[0m     \u001b[1;32mtry\u001b[0m\u001b[1;33m:\u001b[0m\u001b[1;33m\u001b[0m\u001b[1;33m\u001b[0m\u001b[0m\n\u001b[1;32m---> 36\u001b[1;33m         \u001b[1;32mreturn\u001b[0m \u001b[0mf\u001b[0m\u001b[1;33m(\u001b[0m\u001b[1;33m*\u001b[0m\u001b[0margs\u001b[0m\u001b[1;33m,\u001b[0m \u001b[1;33m**\u001b[0m\u001b[0mkwargs\u001b[0m\u001b[1;33m)\u001b[0m\u001b[1;33m\u001b[0m\u001b[1;33m\u001b[0m\u001b[0m\n\u001b[0m\u001b[0;32m     37\u001b[0m     \u001b[1;32mexcept\u001b[0m \u001b[0mException\u001b[0m \u001b[1;32mas\u001b[0m \u001b[0me\u001b[0m\u001b[1;33m:\u001b[0m\u001b[1;33m\u001b[0m\u001b[1;33m\u001b[0m\u001b[0m\n",
      "\u001b[1;32m~\\anaconda3\\lib\\site-packages\\patsy\\eval.py\u001b[0m in \u001b[0;36meval\u001b[1;34m(self, expr, source_name, inner_namespace)\u001b[0m\n\u001b[0;32m    164\u001b[0m         \u001b[0mcode\u001b[0m \u001b[1;33m=\u001b[0m \u001b[0mcompile\u001b[0m\u001b[1;33m(\u001b[0m\u001b[0mexpr\u001b[0m\u001b[1;33m,\u001b[0m \u001b[0msource_name\u001b[0m\u001b[1;33m,\u001b[0m \u001b[1;34m\"eval\"\u001b[0m\u001b[1;33m,\u001b[0m \u001b[0mself\u001b[0m\u001b[1;33m.\u001b[0m\u001b[0mflags\u001b[0m\u001b[1;33m,\u001b[0m \u001b[1;32mFalse\u001b[0m\u001b[1;33m)\u001b[0m\u001b[1;33m\u001b[0m\u001b[1;33m\u001b[0m\u001b[0m\n\u001b[1;32m--> 165\u001b[1;33m         return eval(code, {}, VarLookupDict([inner_namespace]\n\u001b[0m\u001b[0;32m    166\u001b[0m                                             + self._namespaces))\n",
      "\u001b[1;32m<string>\u001b[0m in \u001b[0;36m<module>\u001b[1;34m\u001b[0m\n",
      "\u001b[1;31mNameError\u001b[0m: name 'ager' is not defined",
      "\nThe above exception was the direct cause of the following exception:\n",
      "\u001b[1;31mPatsyError\u001b[0m                                Traceback (most recent call last)",
      "\u001b[1;32m~\\anaconda3\\lib\\site-packages\\statsmodels\\base\\model.py\u001b[0m in \u001b[0;36mpredict\u001b[1;34m(self, exog, transform, *args, **kwargs)\u001b[0m\n\u001b[0;32m   1075\u001b[0m             \u001b[1;32mtry\u001b[0m\u001b[1;33m:\u001b[0m\u001b[1;33m\u001b[0m\u001b[1;33m\u001b[0m\u001b[0m\n\u001b[1;32m-> 1076\u001b[1;33m                 \u001b[0mexog\u001b[0m \u001b[1;33m=\u001b[0m \u001b[0mdmatrix\u001b[0m\u001b[1;33m(\u001b[0m\u001b[0mdesign_info\u001b[0m\u001b[1;33m,\u001b[0m \u001b[0mexog\u001b[0m\u001b[1;33m,\u001b[0m \u001b[0mreturn_type\u001b[0m\u001b[1;33m=\u001b[0m\u001b[1;34m\"dataframe\"\u001b[0m\u001b[1;33m)\u001b[0m\u001b[1;33m\u001b[0m\u001b[1;33m\u001b[0m\u001b[0m\n\u001b[0m\u001b[0;32m   1077\u001b[0m             \u001b[1;32mexcept\u001b[0m \u001b[0mException\u001b[0m \u001b[1;32mas\u001b[0m \u001b[0mexc\u001b[0m\u001b[1;33m:\u001b[0m\u001b[1;33m\u001b[0m\u001b[1;33m\u001b[0m\u001b[0m\n",
      "\u001b[1;32m~\\anaconda3\\lib\\site-packages\\patsy\\highlevel.py\u001b[0m in \u001b[0;36mdmatrix\u001b[1;34m(formula_like, data, eval_env, NA_action, return_type)\u001b[0m\n\u001b[0;32m    289\u001b[0m     \u001b[0meval_env\u001b[0m \u001b[1;33m=\u001b[0m \u001b[0mEvalEnvironment\u001b[0m\u001b[1;33m.\u001b[0m\u001b[0mcapture\u001b[0m\u001b[1;33m(\u001b[0m\u001b[0meval_env\u001b[0m\u001b[1;33m,\u001b[0m \u001b[0mreference\u001b[0m\u001b[1;33m=\u001b[0m\u001b[1;36m1\u001b[0m\u001b[1;33m)\u001b[0m\u001b[1;33m\u001b[0m\u001b[1;33m\u001b[0m\u001b[0m\n\u001b[1;32m--> 290\u001b[1;33m     (lhs, rhs) = _do_highlevel_design(formula_like, data, eval_env,\n\u001b[0m\u001b[0;32m    291\u001b[0m                                       NA_action, return_type)\n",
      "\u001b[1;32m~\\anaconda3\\lib\\site-packages\\patsy\\highlevel.py\u001b[0m in \u001b[0;36m_do_highlevel_design\u001b[1;34m(formula_like, data, eval_env, NA_action, return_type)\u001b[0m\n\u001b[0;32m    166\u001b[0m     \u001b[1;32mif\u001b[0m \u001b[0mdesign_infos\u001b[0m \u001b[1;32mis\u001b[0m \u001b[1;32mnot\u001b[0m \u001b[1;32mNone\u001b[0m\u001b[1;33m:\u001b[0m\u001b[1;33m\u001b[0m\u001b[1;33m\u001b[0m\u001b[0m\n\u001b[1;32m--> 167\u001b[1;33m         return build_design_matrices(design_infos, data,\n\u001b[0m\u001b[0;32m    168\u001b[0m                                      \u001b[0mNA_action\u001b[0m\u001b[1;33m=\u001b[0m\u001b[0mNA_action\u001b[0m\u001b[1;33m,\u001b[0m\u001b[1;33m\u001b[0m\u001b[1;33m\u001b[0m\u001b[0m\n",
      "\u001b[1;32m~\\anaconda3\\lib\\site-packages\\patsy\\build.py\u001b[0m in \u001b[0;36mbuild_design_matrices\u001b[1;34m(design_infos, data, NA_action, return_type, dtype)\u001b[0m\n\u001b[0;32m    887\u001b[0m             \u001b[1;32mif\u001b[0m \u001b[0mfactor_info\u001b[0m \u001b[1;32mnot\u001b[0m \u001b[1;32min\u001b[0m \u001b[0mfactor_info_to_values\u001b[0m\u001b[1;33m:\u001b[0m\u001b[1;33m\u001b[0m\u001b[1;33m\u001b[0m\u001b[0m\n\u001b[1;32m--> 888\u001b[1;33m                 \u001b[0mvalue\u001b[0m\u001b[1;33m,\u001b[0m \u001b[0mis_NA\u001b[0m \u001b[1;33m=\u001b[0m \u001b[0m_eval_factor\u001b[0m\u001b[1;33m(\u001b[0m\u001b[0mfactor_info\u001b[0m\u001b[1;33m,\u001b[0m \u001b[0mdata\u001b[0m\u001b[1;33m,\u001b[0m \u001b[0mNA_action\u001b[0m\u001b[1;33m)\u001b[0m\u001b[1;33m\u001b[0m\u001b[1;33m\u001b[0m\u001b[0m\n\u001b[0m\u001b[0;32m    889\u001b[0m                 \u001b[0mfactor_info_to_isNAs\u001b[0m\u001b[1;33m[\u001b[0m\u001b[0mfactor_info\u001b[0m\u001b[1;33m]\u001b[0m \u001b[1;33m=\u001b[0m \u001b[0mis_NA\u001b[0m\u001b[1;33m\u001b[0m\u001b[1;33m\u001b[0m\u001b[0m\n",
      "\u001b[1;32m~\\anaconda3\\lib\\site-packages\\patsy\\build.py\u001b[0m in \u001b[0;36m_eval_factor\u001b[1;34m(factor_info, data, NA_action)\u001b[0m\n\u001b[0;32m     62\u001b[0m     \u001b[0mfactor\u001b[0m \u001b[1;33m=\u001b[0m \u001b[0mfactor_info\u001b[0m\u001b[1;33m.\u001b[0m\u001b[0mfactor\u001b[0m\u001b[1;33m\u001b[0m\u001b[1;33m\u001b[0m\u001b[0m\n\u001b[1;32m---> 63\u001b[1;33m     \u001b[0mresult\u001b[0m \u001b[1;33m=\u001b[0m \u001b[0mfactor\u001b[0m\u001b[1;33m.\u001b[0m\u001b[0meval\u001b[0m\u001b[1;33m(\u001b[0m\u001b[0mfactor_info\u001b[0m\u001b[1;33m.\u001b[0m\u001b[0mstate\u001b[0m\u001b[1;33m,\u001b[0m \u001b[0mdata\u001b[0m\u001b[1;33m)\u001b[0m\u001b[1;33m\u001b[0m\u001b[1;33m\u001b[0m\u001b[0m\n\u001b[0m\u001b[0;32m     64\u001b[0m     \u001b[1;31m# Returns either a 2d ndarray, or a DataFrame, plus is_NA mask\u001b[0m\u001b[1;33m\u001b[0m\u001b[1;33m\u001b[0m\u001b[1;33m\u001b[0m\u001b[0m\n",
      "\u001b[1;32m~\\anaconda3\\lib\\site-packages\\patsy\\eval.py\u001b[0m in \u001b[0;36meval\u001b[1;34m(self, memorize_state, data)\u001b[0m\n\u001b[0;32m    563\u001b[0m     \u001b[1;32mdef\u001b[0m \u001b[0meval\u001b[0m\u001b[1;33m(\u001b[0m\u001b[0mself\u001b[0m\u001b[1;33m,\u001b[0m \u001b[0mmemorize_state\u001b[0m\u001b[1;33m,\u001b[0m \u001b[0mdata\u001b[0m\u001b[1;33m)\u001b[0m\u001b[1;33m:\u001b[0m\u001b[1;33m\u001b[0m\u001b[1;33m\u001b[0m\u001b[0m\n\u001b[1;32m--> 564\u001b[1;33m         return self._eval(memorize_state[\"eval_code\"],\n\u001b[0m\u001b[0;32m    565\u001b[0m                           \u001b[0mmemorize_state\u001b[0m\u001b[1;33m,\u001b[0m\u001b[1;33m\u001b[0m\u001b[1;33m\u001b[0m\u001b[0m\n",
      "\u001b[1;32m~\\anaconda3\\lib\\site-packages\\patsy\\eval.py\u001b[0m in \u001b[0;36m_eval\u001b[1;34m(self, code, memorize_state, data)\u001b[0m\n\u001b[0;32m    546\u001b[0m         \u001b[0minner_namespace\u001b[0m \u001b[1;33m=\u001b[0m \u001b[0mVarLookupDict\u001b[0m\u001b[1;33m(\u001b[0m\u001b[1;33m[\u001b[0m\u001b[0mdata\u001b[0m\u001b[1;33m,\u001b[0m \u001b[0mmemorize_state\u001b[0m\u001b[1;33m[\u001b[0m\u001b[1;34m\"transforms\"\u001b[0m\u001b[1;33m]\u001b[0m\u001b[1;33m]\u001b[0m\u001b[1;33m)\u001b[0m\u001b[1;33m\u001b[0m\u001b[1;33m\u001b[0m\u001b[0m\n\u001b[1;32m--> 547\u001b[1;33m         return call_and_wrap_exc(\"Error evaluating factor\",\n\u001b[0m\u001b[0;32m    548\u001b[0m                                  \u001b[0mself\u001b[0m\u001b[1;33m,\u001b[0m\u001b[1;33m\u001b[0m\u001b[1;33m\u001b[0m\u001b[0m\n",
      "\u001b[1;32m~\\anaconda3\\lib\\site-packages\\patsy\\compat.py\u001b[0m in \u001b[0;36mcall_and_wrap_exc\u001b[1;34m(msg, origin, f, *args, **kwargs)\u001b[0m\n\u001b[0;32m     42\u001b[0m             \u001b[1;31m# Use 'exec' to hide this syntax from the Python 2 parser:\u001b[0m\u001b[1;33m\u001b[0m\u001b[1;33m\u001b[0m\u001b[1;33m\u001b[0m\u001b[0m\n\u001b[1;32m---> 43\u001b[1;33m             \u001b[0mexec\u001b[0m\u001b[1;33m(\u001b[0m\u001b[1;34m\"raise new_exc from e\"\u001b[0m\u001b[1;33m)\u001b[0m\u001b[1;33m\u001b[0m\u001b[1;33m\u001b[0m\u001b[0m\n\u001b[0m\u001b[0;32m     44\u001b[0m         \u001b[1;32melse\u001b[0m\u001b[1;33m:\u001b[0m\u001b[1;33m\u001b[0m\u001b[1;33m\u001b[0m\u001b[0m\n",
      "\u001b[1;32m~\\anaconda3\\lib\\site-packages\\patsy\\compat.py\u001b[0m in \u001b[0;36m<module>\u001b[1;34m\u001b[0m\n",
      "\u001b[1;31mPatsyError\u001b[0m: Error evaluating factor: NameError: name 'ager' is not defined\n    numbabes ~ ager + C(race) + totincr + havedeg\n               ^^^^",
      "\nDuring handling of the above exception, another exception occurred:\n",
      "\u001b[1;31mPatsyError\u001b[0m                                Traceback (most recent call last)",
      "\u001b[1;32m<ipython-input-39-d960fedd6b73>\u001b[0m in \u001b[0;36m<module>\u001b[1;34m\u001b[0m\n\u001b[0;32m      2\u001b[0m \u001b[0mcolumns\u001b[0m \u001b[1;33m=\u001b[0m \u001b[1;33m[\u001b[0m\u001b[1;34m'ager'\u001b[0m\u001b[1;33m,\u001b[0m \u001b[1;34m'C(race)'\u001b[0m\u001b[1;33m,\u001b[0m\u001b[1;34m'totincr'\u001b[0m\u001b[1;33m,\u001b[0m \u001b[1;34m'havedeg'\u001b[0m\u001b[1;33m]\u001b[0m\u001b[1;33m\u001b[0m\u001b[1;33m\u001b[0m\u001b[0m\n\u001b[0;32m      3\u001b[0m \u001b[0mkids\u001b[0m \u001b[1;33m=\u001b[0m \u001b[0mpd\u001b[0m\u001b[1;33m.\u001b[0m\u001b[0mDataFrame\u001b[0m\u001b[1;33m(\u001b[0m\u001b[1;33m[\u001b[0m\u001b[1;33m[\u001b[0m\u001b[1;36m35\u001b[0m\u001b[1;33m,\u001b[0m \u001b[1;36m0\u001b[0m\u001b[1;33m,\u001b[0m \u001b[1;36m15\u001b[0m\u001b[1;33m,\u001b[0m \u001b[1;36m1\u001b[0m\u001b[1;33m]\u001b[0m\u001b[1;33m]\u001b[0m\u001b[1;33m)\u001b[0m\u001b[1;33m\u001b[0m\u001b[1;33m\u001b[0m\u001b[0m\n\u001b[1;32m----> 4\u001b[1;33m \u001b[0my\u001b[0m \u001b[1;33m=\u001b[0m \u001b[0mresults\u001b[0m\u001b[1;33m.\u001b[0m\u001b[0mpredict\u001b[0m\u001b[1;33m(\u001b[0m\u001b[0mkids\u001b[0m\u001b[1;33m)\u001b[0m\u001b[1;33m\u001b[0m\u001b[1;33m\u001b[0m\u001b[0m\n\u001b[0m",
      "\u001b[1;32m~\\anaconda3\\lib\\site-packages\\statsmodels\\base\\model.py\u001b[0m in \u001b[0;36mpredict\u001b[1;34m(self, exog, transform, *args, **kwargs)\u001b[0m\n\u001b[0;32m   1081\u001b[0m                        \u001b[1;34m'\\n\\nThe original error message returned by patsy is:\\n'\u001b[0m\u001b[1;33m\u001b[0m\u001b[1;33m\u001b[0m\u001b[0m\n\u001b[0;32m   1082\u001b[0m                        '{0}'.format(str(str(exc))))\n\u001b[1;32m-> 1083\u001b[1;33m                 \u001b[1;32mraise\u001b[0m \u001b[0mexc\u001b[0m\u001b[1;33m.\u001b[0m\u001b[0m__class__\u001b[0m\u001b[1;33m(\u001b[0m\u001b[0mmsg\u001b[0m\u001b[1;33m)\u001b[0m\u001b[1;33m\u001b[0m\u001b[1;33m\u001b[0m\u001b[0m\n\u001b[0m\u001b[0;32m   1084\u001b[0m             \u001b[1;32mif\u001b[0m \u001b[0morig_exog_len\u001b[0m \u001b[1;33m>\u001b[0m \u001b[0mlen\u001b[0m\u001b[1;33m(\u001b[0m\u001b[0mexog\u001b[0m\u001b[1;33m)\u001b[0m \u001b[1;32mand\u001b[0m \u001b[1;32mnot\u001b[0m \u001b[0mis_dict\u001b[0m\u001b[1;33m:\u001b[0m\u001b[1;33m\u001b[0m\u001b[1;33m\u001b[0m\u001b[0m\n\u001b[0;32m   1085\u001b[0m                 \u001b[1;32mimport\u001b[0m \u001b[0mwarnings\u001b[0m\u001b[1;33m\u001b[0m\u001b[1;33m\u001b[0m\u001b[0m\n",
      "\u001b[1;31mPatsyError\u001b[0m: predict requires that you use a DataFrame when predicting from a model\nthat was created using the formula api.\n\nThe original error message returned by patsy is:\nError evaluating factor: NameError: name 'ager' is not defined\n    numbabes ~ ager + C(race) + totincr + havedeg\n               ^^^^"
     ]
    }
   ],
   "source": [
    "# Create a pandas series to house the information we are going to use for the prediction\n",
    "columns = ['ager', 'race','totincr', 'havedeg']\n",
    "kids = pd.DataFrame([[35, 0, 15, 1]])\n",
    "y = results.predict(kids)"
   ]
  },
  {
   "cell_type": "code",
   "execution_count": 43,
   "metadata": {},
   "outputs": [
    {
     "data": {
      "text/plain": [
       "0    2.195517\n",
       "dtype: float64"
      ]
     },
     "execution_count": 43,
     "metadata": {},
     "output_type": "execute_result"
    }
   ],
   "source": [
    "# I don't understand why age_r is not defined, it's in the file that lists the columns (AGER   %2f  \"Age at interview\")\n",
    "# Oh duh, I forgot to name the columns in the pd series\n",
    "columns = ['ager', 'race','totincr', 'havedeg']\n",
    "kids = pd.DataFrame([[35, 1, 15, 1]], columns=columns)\n",
    "y = results.predict(kids)\n",
    "y"
   ]
  },
  {
   "cell_type": "code",
   "execution_count": 41,
   "metadata": {},
   "outputs": [],
   "source": [
    "# So my prediction is that she has two kids."
   ]
  },
  {
   "cell_type": "markdown",
   "metadata": {},
   "source": [
    "## Exercise 11-4"
   ]
  },
  {
   "cell_type": "markdown",
   "metadata": {},
   "source": [
    "**Exercise:** If the quantity you want to predict is categorical, you can use multinomial logistic regression, which is implemented in StatsModels with a function called `mnlogit`. As an exercise, let’s use it to guess whether a woman is married, cohabitating, widowed, divorced, separated, or never married; in the NSFG dataset, marital status is encoded in a variable called `rmarital`.\n",
    "\n",
    "Suppose you meet a woman who is 25 years old, white, and a high school graduate whose annual household income is about $45,000. What is the probability that she is married, cohabitating, etc?"
   ]
  },
  {
   "cell_type": "code",
   "execution_count": 46,
   "metadata": {},
   "outputs": [
    {
     "name": "stdout",
     "output_type": "stream",
     "text": [
      "Optimization terminated successfully.\n",
      "         Current function value: 1.100517\n",
      "         Iterations 8\n"
     ]
    },
    {
     "data": {
      "text/html": [
       "<table class=\"simpletable\">\n",
       "<caption>MNLogit Regression Results</caption>\n",
       "<tr>\n",
       "  <th>Dep. Variable:</th>       <td>rmarital</td>     <th>  No. Observations:  </th>  <td>  8747</td> \n",
       "</tr>\n",
       "<tr>\n",
       "  <th>Model:</th>                <td>MNLogit</td>     <th>  Df Residuals:      </th>  <td>  8722</td> \n",
       "</tr>\n",
       "<tr>\n",
       "  <th>Method:</th>                 <td>MLE</td>       <th>  Df Model:          </th>  <td>    20</td> \n",
       "</tr>\n",
       "<tr>\n",
       "  <th>Date:</th>            <td>Thu, 29 Oct 2020</td> <th>  Pseudo R-squ.:     </th>  <td>0.1541</td> \n",
       "</tr>\n",
       "<tr>\n",
       "  <th>Time:</th>                <td>19:31:35</td>     <th>  Log-Likelihood:    </th> <td> -9626.2</td>\n",
       "</tr>\n",
       "<tr>\n",
       "  <th>converged:</th>             <td>True</td>       <th>  LL-Null:           </th> <td> -11380.</td>\n",
       "</tr>\n",
       "<tr>\n",
       "  <th>Covariance Type:</th>     <td>nonrobust</td>    <th>  LLR p-value:       </th>  <td> 0.000</td> \n",
       "</tr>\n",
       "</table>\n",
       "<table class=\"simpletable\">\n",
       "<tr>\n",
       "  <th>rmarital=2</th>    <th>coef</th>     <th>std err</th>      <th>z</th>      <th>P>|z|</th>  <th>[0.025</th>    <th>0.975]</th>  \n",
       "</tr>\n",
       "<tr>\n",
       "  <th>Intercept</th>  <td>    2.2896</td> <td>    0.254</td> <td>    9.029</td> <td> 0.000</td> <td>    1.793</td> <td>    2.787</td>\n",
       "</tr>\n",
       "<tr>\n",
       "  <th>ager</th>       <td>   -0.0606</td> <td>    0.006</td> <td>  -10.195</td> <td> 0.000</td> <td>   -0.072</td> <td>   -0.049</td>\n",
       "</tr>\n",
       "<tr>\n",
       "  <th>race</th>       <td>   -0.4936</td> <td>    0.067</td> <td>   -7.375</td> <td> 0.000</td> <td>   -0.625</td> <td>   -0.362</td>\n",
       "</tr>\n",
       "<tr>\n",
       "  <th>havedip</th>    <td>    0.1572</td> <td>    0.021</td> <td>    7.317</td> <td> 0.000</td> <td>    0.115</td> <td>    0.199</td>\n",
       "</tr>\n",
       "<tr>\n",
       "  <th>totincr</th>    <td>   -0.1628</td> <td>    0.011</td> <td>  -14.443</td> <td> 0.000</td> <td>   -0.185</td> <td>   -0.141</td>\n",
       "</tr>\n",
       "<tr>\n",
       "  <th>rmarital=3</th>    <th>coef</th>     <th>std err</th>      <th>z</th>      <th>P>|z|</th>  <th>[0.025</th>    <th>0.975]</th>  \n",
       "</tr>\n",
       "<tr>\n",
       "  <th>Intercept</th>  <td>   -5.5371</td> <td>    0.841</td> <td>   -6.580</td> <td> 0.000</td> <td>   -7.186</td> <td>   -3.888</td>\n",
       "</tr>\n",
       "<tr>\n",
       "  <th>ager</th>       <td>    0.1238</td> <td>    0.019</td> <td>    6.482</td> <td> 0.000</td> <td>    0.086</td> <td>    0.161</td>\n",
       "</tr>\n",
       "<tr>\n",
       "  <th>race</th>       <td>   -0.0971</td> <td>    0.171</td> <td>   -0.570</td> <td> 0.569</td> <td>   -0.431</td> <td>    0.237</td>\n",
       "</tr>\n",
       "<tr>\n",
       "  <th>havedip</th>    <td>    0.0302</td> <td>    0.056</td> <td>    0.540</td> <td> 0.589</td> <td>   -0.079</td> <td>    0.140</td>\n",
       "</tr>\n",
       "<tr>\n",
       "  <th>totincr</th>    <td>   -0.3454</td> <td>    0.031</td> <td>  -11.127</td> <td> 0.000</td> <td>   -0.406</td> <td>   -0.285</td>\n",
       "</tr>\n",
       "<tr>\n",
       "  <th>rmarital=4</th>    <th>coef</th>     <th>std err</th>      <th>z</th>      <th>P>|z|</th>  <th>[0.025</th>    <th>0.975]</th>  \n",
       "</tr>\n",
       "<tr>\n",
       "  <th>Intercept</th>  <td>   -1.3215</td> <td>    0.289</td> <td>   -4.574</td> <td> 0.000</td> <td>   -1.888</td> <td>   -0.755</td>\n",
       "</tr>\n",
       "<tr>\n",
       "  <th>ager</th>       <td>    0.0678</td> <td>    0.007</td> <td>   10.212</td> <td> 0.000</td> <td>    0.055</td> <td>    0.081</td>\n",
       "</tr>\n",
       "<tr>\n",
       "  <th>race</th>       <td>   -0.2953</td> <td>    0.069</td> <td>   -4.255</td> <td> 0.000</td> <td>   -0.431</td> <td>   -0.159</td>\n",
       "</tr>\n",
       "<tr>\n",
       "  <th>havedip</th>    <td>   -0.1725</td> <td>    0.027</td> <td>   -6.288</td> <td> 0.000</td> <td>   -0.226</td> <td>   -0.119</td>\n",
       "</tr>\n",
       "<tr>\n",
       "  <th>totincr</th>    <td>   -0.2318</td> <td>    0.011</td> <td>  -20.875</td> <td> 0.000</td> <td>   -0.254</td> <td>   -0.210</td>\n",
       "</tr>\n",
       "<tr>\n",
       "  <th>rmarital=5</th>    <th>coef</th>     <th>std err</th>      <th>z</th>      <th>P>|z|</th>  <th>[0.025</th>    <th>0.975]</th>  \n",
       "</tr>\n",
       "<tr>\n",
       "  <th>Intercept</th>  <td>    0.9407</td> <td>    0.311</td> <td>    3.022</td> <td> 0.003</td> <td>    0.331</td> <td>    1.551</td>\n",
       "</tr>\n",
       "<tr>\n",
       "  <th>ager</th>       <td>    0.0064</td> <td>    0.007</td> <td>    0.878</td> <td> 0.380</td> <td>   -0.008</td> <td>    0.021</td>\n",
       "</tr>\n",
       "<tr>\n",
       "  <th>race</th>       <td>   -0.5191</td> <td>    0.079</td> <td>   -6.548</td> <td> 0.000</td> <td>   -0.674</td> <td>   -0.364</td>\n",
       "</tr>\n",
       "<tr>\n",
       "  <th>havedip</th>    <td>    0.0284</td> <td>    0.026</td> <td>    1.082</td> <td> 0.279</td> <td>   -0.023</td> <td>    0.080</td>\n",
       "</tr>\n",
       "<tr>\n",
       "  <th>totincr</th>    <td>   -0.3046</td> <td>    0.014</td> <td>  -21.565</td> <td> 0.000</td> <td>   -0.332</td> <td>   -0.277</td>\n",
       "</tr>\n",
       "<tr>\n",
       "  <th>rmarital=6</th>    <th>coef</th>     <th>std err</th>      <th>z</th>      <th>P>|z|</th>  <th>[0.025</th>    <th>0.975]</th>  \n",
       "</tr>\n",
       "<tr>\n",
       "  <th>Intercept</th>  <td>    6.6543</td> <td>    0.242</td> <td>   27.483</td> <td> 0.000</td> <td>    6.180</td> <td>    7.129</td>\n",
       "</tr>\n",
       "<tr>\n",
       "  <th>ager</th>       <td>   -0.0910</td> <td>    0.006</td> <td>  -15.823</td> <td> 0.000</td> <td>   -0.102</td> <td>   -0.080</td>\n",
       "</tr>\n",
       "<tr>\n",
       "  <th>race</th>       <td>   -1.5358</td> <td>    0.066</td> <td>  -23.400</td> <td> 0.000</td> <td>   -1.664</td> <td>   -1.407</td>\n",
       "</tr>\n",
       "<tr>\n",
       "  <th>havedip</th>    <td>    0.0282</td> <td>    0.021</td> <td>    1.349</td> <td> 0.177</td> <td>   -0.013</td> <td>    0.069</td>\n",
       "</tr>\n",
       "<tr>\n",
       "  <th>totincr</th>    <td>   -0.3216</td> <td>    0.011</td> <td>  -28.109</td> <td> 0.000</td> <td>   -0.344</td> <td>   -0.299</td>\n",
       "</tr>\n",
       "</table>"
      ],
      "text/plain": [
       "<class 'statsmodels.iolib.summary.Summary'>\n",
       "\"\"\"\n",
       "                          MNLogit Regression Results                          \n",
       "==============================================================================\n",
       "Dep. Variable:               rmarital   No. Observations:                 8747\n",
       "Model:                        MNLogit   Df Residuals:                     8722\n",
       "Method:                           MLE   Df Model:                           20\n",
       "Date:                Thu, 29 Oct 2020   Pseudo R-squ.:                  0.1541\n",
       "Time:                        19:31:35   Log-Likelihood:                -9626.2\n",
       "converged:                       True   LL-Null:                       -11380.\n",
       "Covariance Type:            nonrobust   LLR p-value:                     0.000\n",
       "==============================================================================\n",
       "rmarital=2       coef    std err          z      P>|z|      [0.025      0.975]\n",
       "------------------------------------------------------------------------------\n",
       "Intercept      2.2896      0.254      9.029      0.000       1.793       2.787\n",
       "ager          -0.0606      0.006    -10.195      0.000      -0.072      -0.049\n",
       "race          -0.4936      0.067     -7.375      0.000      -0.625      -0.362\n",
       "havedip        0.1572      0.021      7.317      0.000       0.115       0.199\n",
       "totincr       -0.1628      0.011    -14.443      0.000      -0.185      -0.141\n",
       "------------------------------------------------------------------------------\n",
       "rmarital=3       coef    std err          z      P>|z|      [0.025      0.975]\n",
       "------------------------------------------------------------------------------\n",
       "Intercept     -5.5371      0.841     -6.580      0.000      -7.186      -3.888\n",
       "ager           0.1238      0.019      6.482      0.000       0.086       0.161\n",
       "race          -0.0971      0.171     -0.570      0.569      -0.431       0.237\n",
       "havedip        0.0302      0.056      0.540      0.589      -0.079       0.140\n",
       "totincr       -0.3454      0.031    -11.127      0.000      -0.406      -0.285\n",
       "------------------------------------------------------------------------------\n",
       "rmarital=4       coef    std err          z      P>|z|      [0.025      0.975]\n",
       "------------------------------------------------------------------------------\n",
       "Intercept     -1.3215      0.289     -4.574      0.000      -1.888      -0.755\n",
       "ager           0.0678      0.007     10.212      0.000       0.055       0.081\n",
       "race          -0.2953      0.069     -4.255      0.000      -0.431      -0.159\n",
       "havedip       -0.1725      0.027     -6.288      0.000      -0.226      -0.119\n",
       "totincr       -0.2318      0.011    -20.875      0.000      -0.254      -0.210\n",
       "------------------------------------------------------------------------------\n",
       "rmarital=5       coef    std err          z      P>|z|      [0.025      0.975]\n",
       "------------------------------------------------------------------------------\n",
       "Intercept      0.9407      0.311      3.022      0.003       0.331       1.551\n",
       "ager           0.0064      0.007      0.878      0.380      -0.008       0.021\n",
       "race          -0.5191      0.079     -6.548      0.000      -0.674      -0.364\n",
       "havedip        0.0284      0.026      1.082      0.279      -0.023       0.080\n",
       "totincr       -0.3046      0.014    -21.565      0.000      -0.332      -0.277\n",
       "------------------------------------------------------------------------------\n",
       "rmarital=6       coef    std err          z      P>|z|      [0.025      0.975]\n",
       "------------------------------------------------------------------------------\n",
       "Intercept      6.6543      0.242     27.483      0.000       6.180       7.129\n",
       "ager          -0.0910      0.006    -15.823      0.000      -0.102      -0.080\n",
       "race          -1.5358      0.066    -23.400      0.000      -1.664      -1.407\n",
       "havedip        0.0282      0.021      1.349      0.177      -0.013       0.069\n",
       "totincr       -0.3216      0.011    -28.109      0.000      -0.344      -0.299\n",
       "==============================================================================\n",
       "\"\"\""
      ]
     },
     "execution_count": 46,
     "metadata": {},
     "output_type": "execute_result"
    }
   ],
   "source": [
    "# Create my formula for marital status\n",
    "formula = 'rmarital ~ ager + race + havedip + totincr'\n",
    "results = smf.mnlogit(formula, data=join).fit()\n",
    "results.summary()"
   ]
  },
  {
   "cell_type": "markdown",
   "metadata": {},
   "source": [
    "Make a prediction for a woman who is 25 years old, white, and a high\n",
    "school graduate whose annual household income is about $45,000."
   ]
  },
  {
   "cell_type": "code",
   "execution_count": 47,
   "metadata": {},
   "outputs": [
    {
     "data": {
      "text/html": [
       "<div>\n",
       "<style scoped>\n",
       "    .dataframe tbody tr th:only-of-type {\n",
       "        vertical-align: middle;\n",
       "    }\n",
       "\n",
       "    .dataframe tbody tr th {\n",
       "        vertical-align: top;\n",
       "    }\n",
       "\n",
       "    .dataframe thead th {\n",
       "        text-align: right;\n",
       "    }\n",
       "</style>\n",
       "<table border=\"1\" class=\"dataframe\">\n",
       "  <thead>\n",
       "    <tr style=\"text-align: right;\">\n",
       "      <th></th>\n",
       "      <th>0</th>\n",
       "      <th>1</th>\n",
       "      <th>2</th>\n",
       "      <th>3</th>\n",
       "      <th>4</th>\n",
       "      <th>5</th>\n",
       "    </tr>\n",
       "  </thead>\n",
       "  <tbody>\n",
       "    <tr>\n",
       "      <th>0</th>\n",
       "      <td>0.630094</td>\n",
       "      <td>0.137846</td>\n",
       "      <td>0.002079</td>\n",
       "      <td>0.053013</td>\n",
       "      <td>0.044472</td>\n",
       "      <td>0.132496</td>\n",
       "    </tr>\n",
       "  </tbody>\n",
       "</table>\n",
       "</div>"
      ],
      "text/plain": [
       "          0         1         2         3         4         5\n",
       "0  0.630094  0.137846  0.002079  0.053013  0.044472  0.132496"
      ]
     },
     "execution_count": 47,
     "metadata": {},
     "output_type": "execute_result"
    }
   ],
   "source": [
    "# Predict \n",
    "columns = ['ager', 'race', 'havedip', 'totincr']\n",
    "married = pd.DataFrame([[25, 2, 1, 9]], columns=columns)\n",
    "y = results.predict(married)\n",
    "y"
   ]
  },
  {
   "cell_type": "code",
   "execution_count": null,
   "metadata": {},
   "outputs": [],
   "source": [
    "# I show a 63% chance she's married and a 14% chance she is cohabitating with a significant other. \n",
    "# My numbers may be different from the solution file because I used different variables such as havedip instead of educat."
   ]
  }
 ],
 "metadata": {
  "kernelspec": {
   "display_name": "Python 3",
   "language": "python",
   "name": "python3"
  },
  "language_info": {
   "codemirror_mode": {
    "name": "ipython",
    "version": 3
   },
   "file_extension": ".py",
   "mimetype": "text/x-python",
   "name": "python",
   "nbconvert_exporter": "python",
   "pygments_lexer": "ipython3",
   "version": "3.8.3"
  }
 },
 "nbformat": 4,
 "nbformat_minor": 1
}
